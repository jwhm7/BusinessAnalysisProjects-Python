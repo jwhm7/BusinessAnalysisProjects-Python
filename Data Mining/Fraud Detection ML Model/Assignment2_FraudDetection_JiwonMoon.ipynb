{
 "cells": [
  {
   "cell_type": "code",
   "execution_count": 1,
   "metadata": {
    "executionInfo": {
     "elapsed": 1348,
     "status": "ok",
     "timestamp": 1664030011713,
     "user": {
      "displayName": "Jiwon Moon",
      "userId": "18188594087359353260"
     },
     "user_tz": 420
    },
    "id": "a0Osl-LHXtc_"
   },
   "outputs": [],
   "source": [
    "import pandas as pd\n",
    "from sklearn.preprocessing import label_binarize\n",
    "import numpy as np\n",
    "from sklearn.model_selection import train_test_split\n",
    "from sklearn.ensemble import RandomForestClassifier\n",
    "from sklearn.tree import DecisionTreeClassifier\n",
    "from sklearn.model_selection import GridSearchCV\n",
    "from sklearn.model_selection import RandomizedSearchCV\n",
    "from sklearn.model_selection import cross_val_score\n",
    "from sklearn.metrics import classification_report, confusion_matrix\n",
    "from sklearn.ensemble import GradientBoostingClassifier\n",
    "from sklearn.preprocessing import OneHotEncoder\n",
    "from sklearn import metrics\n",
    "from sklearn.metrics import accuracy_score\n",
    "from sklearn.model_selection import KFold\n",
    "\n",
    "import warnings\n",
    "warnings.filterwarnings(\"ignore\")"
   ]
  },
  {
   "cell_type": "markdown",
   "metadata": {
    "id": "f01-iPVsYe9M"
   },
   "source": [
    "# Importing the Data Set"
   ]
  },
  {
   "cell_type": "code",
   "execution_count": 2,
   "metadata": {
    "colab": {
     "base_uri": "https://localhost:8080/",
     "height": 488
    },
    "executionInfo": {
     "elapsed": 860,
     "status": "ok",
     "timestamp": 1664030032042,
     "user": {
      "displayName": "Jiwon Moon",
      "userId": "18188594087359353260"
     },
     "user_tz": 420
    },
    "id": "RhgOiw7TXwL4",
    "outputId": "7a1fe758-3c29-433f-f200-e84a76cf34b0"
   },
   "outputs": [
    {
     "data": {
      "text/html": [
       "<div>\n",
       "<style scoped>\n",
       "    .dataframe tbody tr th:only-of-type {\n",
       "        vertical-align: middle;\n",
       "    }\n",
       "\n",
       "    .dataframe tbody tr th {\n",
       "        vertical-align: top;\n",
       "    }\n",
       "\n",
       "    .dataframe thead th {\n",
       "        text-align: right;\n",
       "    }\n",
       "</style>\n",
       "<table border=\"1\" class=\"dataframe\">\n",
       "  <thead>\n",
       "    <tr style=\"text-align: right;\">\n",
       "      <th></th>\n",
       "      <th>MONTH</th>\n",
       "      <th>WEEKOFMONTH</th>\n",
       "      <th>DAYOFWEEK</th>\n",
       "      <th>MAKE</th>\n",
       "      <th>ACCIDENTAREA</th>\n",
       "      <th>DAYOFWEEKCLAIMED</th>\n",
       "      <th>MONTHCLAIMED</th>\n",
       "      <th>WEEKOFMONTHCLAIMED</th>\n",
       "      <th>SEX</th>\n",
       "      <th>MARITALSTATUS</th>\n",
       "      <th>...</th>\n",
       "      <th>AGEOFPOLICYHOLDER</th>\n",
       "      <th>POLICEREPORTFILED</th>\n",
       "      <th>WITNESSPRESENT</th>\n",
       "      <th>AGENTTYPE</th>\n",
       "      <th>NUMBEROFSUPPLIMENTS</th>\n",
       "      <th>ADDRESSCHANGE_CLAIM</th>\n",
       "      <th>NUMBEROFCARS</th>\n",
       "      <th>YEAR</th>\n",
       "      <th>BASEPOLICY</th>\n",
       "      <th>FRAUDFOUND</th>\n",
       "    </tr>\n",
       "  </thead>\n",
       "  <tbody>\n",
       "    <tr>\n",
       "      <th>0</th>\n",
       "      <td>Jul</td>\n",
       "      <td>3</td>\n",
       "      <td>Sunday</td>\n",
       "      <td>Honda</td>\n",
       "      <td>Rural</td>\n",
       "      <td>Wednesday</td>\n",
       "      <td>Jan</td>\n",
       "      <td>4</td>\n",
       "      <td>Male</td>\n",
       "      <td>Married</td>\n",
       "      <td>...</td>\n",
       "      <td>26_to_30</td>\n",
       "      <td>No</td>\n",
       "      <td>No</td>\n",
       "      <td>External</td>\n",
       "      <td>3_to_5</td>\n",
       "      <td>no_change</td>\n",
       "      <td>1-vehicle</td>\n",
       "      <td>1994</td>\n",
       "      <td>Collision</td>\n",
       "      <td>Yes</td>\n",
       "    </tr>\n",
       "    <tr>\n",
       "      <th>1</th>\n",
       "      <td>Nov</td>\n",
       "      <td>5</td>\n",
       "      <td>Monday</td>\n",
       "      <td>Mazda</td>\n",
       "      <td>Urban</td>\n",
       "      <td>Wednesday</td>\n",
       "      <td>Dec</td>\n",
       "      <td>1</td>\n",
       "      <td>Male</td>\n",
       "      <td>Single</td>\n",
       "      <td>...</td>\n",
       "      <td>over_65</td>\n",
       "      <td>No</td>\n",
       "      <td>No</td>\n",
       "      <td>External</td>\n",
       "      <td>none</td>\n",
       "      <td>no_change</td>\n",
       "      <td>1-vehicle</td>\n",
       "      <td>1994</td>\n",
       "      <td>All_Perils</td>\n",
       "      <td>Yes</td>\n",
       "    </tr>\n",
       "    <tr>\n",
       "      <th>2</th>\n",
       "      <td>Jan</td>\n",
       "      <td>1</td>\n",
       "      <td>Monday</td>\n",
       "      <td>Pontiac</td>\n",
       "      <td>Urban</td>\n",
       "      <td>Wednesday</td>\n",
       "      <td>Jan</td>\n",
       "      <td>1</td>\n",
       "      <td>Male</td>\n",
       "      <td>Married</td>\n",
       "      <td>...</td>\n",
       "      <td>41_to_50</td>\n",
       "      <td>No</td>\n",
       "      <td>No</td>\n",
       "      <td>External</td>\n",
       "      <td>none</td>\n",
       "      <td>under_6_months</td>\n",
       "      <td>1-vehicle</td>\n",
       "      <td>1994</td>\n",
       "      <td>All_Perils</td>\n",
       "      <td>Yes</td>\n",
       "    </tr>\n",
       "    <tr>\n",
       "      <th>3</th>\n",
       "      <td>Dec</td>\n",
       "      <td>1</td>\n",
       "      <td>Monday</td>\n",
       "      <td>Toyota</td>\n",
       "      <td>Rural</td>\n",
       "      <td>Tuesday</td>\n",
       "      <td>May</td>\n",
       "      <td>3</td>\n",
       "      <td>Male</td>\n",
       "      <td>Married</td>\n",
       "      <td>...</td>\n",
       "      <td>36_to_40</td>\n",
       "      <td>No</td>\n",
       "      <td>No</td>\n",
       "      <td>External</td>\n",
       "      <td>more_than_5</td>\n",
       "      <td>under_6_months</td>\n",
       "      <td>2-vehicles</td>\n",
       "      <td>1994</td>\n",
       "      <td>All_Perils</td>\n",
       "      <td>Yes</td>\n",
       "    </tr>\n",
       "    <tr>\n",
       "      <th>4</th>\n",
       "      <td>Dec</td>\n",
       "      <td>5</td>\n",
       "      <td>Wednesday</td>\n",
       "      <td>Pontiac</td>\n",
       "      <td>Urban</td>\n",
       "      <td>Wednesday</td>\n",
       "      <td>Jan</td>\n",
       "      <td>1</td>\n",
       "      <td>Male</td>\n",
       "      <td>Single</td>\n",
       "      <td>...</td>\n",
       "      <td>36_to_40</td>\n",
       "      <td>No</td>\n",
       "      <td>No</td>\n",
       "      <td>External</td>\n",
       "      <td>more_than_5</td>\n",
       "      <td>no_change</td>\n",
       "      <td>1-vehicle</td>\n",
       "      <td>1994</td>\n",
       "      <td>Collision</td>\n",
       "      <td>Yes</td>\n",
       "    </tr>\n",
       "    <tr>\n",
       "      <th>...</th>\n",
       "      <td>...</td>\n",
       "      <td>...</td>\n",
       "      <td>...</td>\n",
       "      <td>...</td>\n",
       "      <td>...</td>\n",
       "      <td>...</td>\n",
       "      <td>...</td>\n",
       "      <td>...</td>\n",
       "      <td>...</td>\n",
       "      <td>...</td>\n",
       "      <td>...</td>\n",
       "      <td>...</td>\n",
       "      <td>...</td>\n",
       "      <td>...</td>\n",
       "      <td>...</td>\n",
       "      <td>...</td>\n",
       "      <td>...</td>\n",
       "      <td>...</td>\n",
       "      <td>...</td>\n",
       "      <td>...</td>\n",
       "      <td>...</td>\n",
       "    </tr>\n",
       "    <tr>\n",
       "      <th>2994</th>\n",
       "      <td>Apr</td>\n",
       "      <td>2</td>\n",
       "      <td>Monday</td>\n",
       "      <td>Pontiac</td>\n",
       "      <td>Rural</td>\n",
       "      <td>Monday</td>\n",
       "      <td>Apr</td>\n",
       "      <td>2</td>\n",
       "      <td>Male</td>\n",
       "      <td>Married</td>\n",
       "      <td>...</td>\n",
       "      <td>36_to_40</td>\n",
       "      <td>No</td>\n",
       "      <td>No</td>\n",
       "      <td>External</td>\n",
       "      <td>none</td>\n",
       "      <td>no_change</td>\n",
       "      <td>1-vehicle</td>\n",
       "      <td>1996</td>\n",
       "      <td>Liability</td>\n",
       "      <td>No</td>\n",
       "    </tr>\n",
       "    <tr>\n",
       "      <th>2995</th>\n",
       "      <td>Nov</td>\n",
       "      <td>4</td>\n",
       "      <td>Thursday</td>\n",
       "      <td>Honda</td>\n",
       "      <td>Urban</td>\n",
       "      <td>Friday</td>\n",
       "      <td>Nov</td>\n",
       "      <td>4</td>\n",
       "      <td>Male</td>\n",
       "      <td>Married</td>\n",
       "      <td>...</td>\n",
       "      <td>31_to_35</td>\n",
       "      <td>No</td>\n",
       "      <td>No</td>\n",
       "      <td>External</td>\n",
       "      <td>none</td>\n",
       "      <td>no_change</td>\n",
       "      <td>1-vehicle</td>\n",
       "      <td>1996</td>\n",
       "      <td>Liability</td>\n",
       "      <td>No</td>\n",
       "    </tr>\n",
       "    <tr>\n",
       "      <th>2996</th>\n",
       "      <td>Dec</td>\n",
       "      <td>4</td>\n",
       "      <td>Sunday</td>\n",
       "      <td>Chevrolet</td>\n",
       "      <td>Urban</td>\n",
       "      <td>Wednesday</td>\n",
       "      <td>Jan</td>\n",
       "      <td>1</td>\n",
       "      <td>Male</td>\n",
       "      <td>Married</td>\n",
       "      <td>...</td>\n",
       "      <td>over_65</td>\n",
       "      <td>No</td>\n",
       "      <td>No</td>\n",
       "      <td>External</td>\n",
       "      <td>none</td>\n",
       "      <td>no_change</td>\n",
       "      <td>1-vehicle</td>\n",
       "      <td>1996</td>\n",
       "      <td>Liability</td>\n",
       "      <td>No</td>\n",
       "    </tr>\n",
       "    <tr>\n",
       "      <th>2997</th>\n",
       "      <td>Apr</td>\n",
       "      <td>1</td>\n",
       "      <td>Monday</td>\n",
       "      <td>Toyota</td>\n",
       "      <td>Urban</td>\n",
       "      <td>Tuesday</td>\n",
       "      <td>Apr</td>\n",
       "      <td>1</td>\n",
       "      <td>Male</td>\n",
       "      <td>Married</td>\n",
       "      <td>...</td>\n",
       "      <td>31_to_35</td>\n",
       "      <td>No</td>\n",
       "      <td>No</td>\n",
       "      <td>External</td>\n",
       "      <td>none</td>\n",
       "      <td>no_change</td>\n",
       "      <td>1-vehicle</td>\n",
       "      <td>1996</td>\n",
       "      <td>All_Perils</td>\n",
       "      <td>No</td>\n",
       "    </tr>\n",
       "    <tr>\n",
       "      <th>2998</th>\n",
       "      <td>Jun</td>\n",
       "      <td>4</td>\n",
       "      <td>Friday</td>\n",
       "      <td>Pontiac</td>\n",
       "      <td>Urban</td>\n",
       "      <td>Wednesday</td>\n",
       "      <td>Jul</td>\n",
       "      <td>1</td>\n",
       "      <td>Male</td>\n",
       "      <td>Single</td>\n",
       "      <td>...</td>\n",
       "      <td>31_to_35</td>\n",
       "      <td>No</td>\n",
       "      <td>No</td>\n",
       "      <td>External</td>\n",
       "      <td>3_to_5</td>\n",
       "      <td>no_change</td>\n",
       "      <td>1-vehicle</td>\n",
       "      <td>1996</td>\n",
       "      <td>All_Perils</td>\n",
       "      <td>No</td>\n",
       "    </tr>\n",
       "  </tbody>\n",
       "</table>\n",
       "<p>2999 rows × 32 columns</p>\n",
       "</div>"
      ],
      "text/plain": [
       "     MONTH  WEEKOFMONTH  DAYOFWEEK       MAKE ACCIDENTAREA DAYOFWEEKCLAIMED  \\\n",
       "0      Jul            3     Sunday      Honda        Rural        Wednesday   \n",
       "1      Nov            5     Monday      Mazda        Urban        Wednesday   \n",
       "2      Jan            1     Monday    Pontiac        Urban        Wednesday   \n",
       "3      Dec            1     Monday     Toyota        Rural          Tuesday   \n",
       "4      Dec            5  Wednesday    Pontiac        Urban        Wednesday   \n",
       "...    ...          ...        ...        ...          ...              ...   \n",
       "2994   Apr            2     Monday    Pontiac        Rural           Monday   \n",
       "2995   Nov            4   Thursday      Honda        Urban           Friday   \n",
       "2996   Dec            4     Sunday  Chevrolet        Urban        Wednesday   \n",
       "2997   Apr            1     Monday     Toyota        Urban          Tuesday   \n",
       "2998   Jun            4     Friday    Pontiac        Urban        Wednesday   \n",
       "\n",
       "     MONTHCLAIMED  WEEKOFMONTHCLAIMED   SEX MARITALSTATUS  ...  \\\n",
       "0             Jan                   4  Male       Married  ...   \n",
       "1             Dec                   1  Male        Single  ...   \n",
       "2             Jan                   1  Male       Married  ...   \n",
       "3             May                   3  Male       Married  ...   \n",
       "4             Jan                   1  Male        Single  ...   \n",
       "...           ...                 ...   ...           ...  ...   \n",
       "2994          Apr                   2  Male       Married  ...   \n",
       "2995          Nov                   4  Male       Married  ...   \n",
       "2996          Jan                   1  Male       Married  ...   \n",
       "2997          Apr                   1  Male       Married  ...   \n",
       "2998          Jul                   1  Male        Single  ...   \n",
       "\n",
       "      AGEOFPOLICYHOLDER POLICEREPORTFILED WITNESSPRESENT AGENTTYPE  \\\n",
       "0              26_to_30                No             No  External   \n",
       "1               over_65                No             No  External   \n",
       "2              41_to_50                No             No  External   \n",
       "3              36_to_40                No             No  External   \n",
       "4              36_to_40                No             No  External   \n",
       "...                 ...               ...            ...       ...   \n",
       "2994           36_to_40                No             No  External   \n",
       "2995           31_to_35                No             No  External   \n",
       "2996            over_65                No             No  External   \n",
       "2997           31_to_35                No             No  External   \n",
       "2998           31_to_35                No             No  External   \n",
       "\n",
       "     NUMBEROFSUPPLIMENTS  ADDRESSCHANGE_CLAIM  NUMBEROFCARS  YEAR  BASEPOLICY  \\\n",
       "0                 3_to_5            no_change     1-vehicle  1994   Collision   \n",
       "1                   none            no_change     1-vehicle  1994  All_Perils   \n",
       "2                   none       under_6_months     1-vehicle  1994  All_Perils   \n",
       "3            more_than_5       under_6_months    2-vehicles  1994  All_Perils   \n",
       "4            more_than_5            no_change     1-vehicle  1994   Collision   \n",
       "...                  ...                  ...           ...   ...         ...   \n",
       "2994                none            no_change     1-vehicle  1996   Liability   \n",
       "2995                none            no_change     1-vehicle  1996   Liability   \n",
       "2996                none            no_change     1-vehicle  1996   Liability   \n",
       "2997                none            no_change     1-vehicle  1996  All_Perils   \n",
       "2998              3_to_5            no_change     1-vehicle  1996  All_Perils   \n",
       "\n",
       "     FRAUDFOUND  \n",
       "0           Yes  \n",
       "1           Yes  \n",
       "2           Yes  \n",
       "3           Yes  \n",
       "4           Yes  \n",
       "...         ...  \n",
       "2994         No  \n",
       "2995         No  \n",
       "2996         No  \n",
       "2997         No  \n",
       "2998         No  \n",
       "\n",
       "[2999 rows x 32 columns]"
      ]
     },
     "metadata": {},
     "output_type": "display_data"
    }
   ],
   "source": [
    "F_train = pd.read_csv('/Users/jiwonmoon/Desktop/CIS 508/Data Mining I/Assignments/Individual Assignment 2/data/Insurance Fraud - TRAIN-3000.csv')\n",
    "display(F_train)\n",
    "\n",
    "train = pd.DataFrame(F_train)"
   ]
  },
  {
   "cell_type": "code",
   "execution_count": 3,
   "metadata": {},
   "outputs": [
    {
     "data": {
      "text/html": [
       "<div>\n",
       "<style scoped>\n",
       "    .dataframe tbody tr th:only-of-type {\n",
       "        vertical-align: middle;\n",
       "    }\n",
       "\n",
       "    .dataframe tbody tr th {\n",
       "        vertical-align: top;\n",
       "    }\n",
       "\n",
       "    .dataframe thead th {\n",
       "        text-align: right;\n",
       "    }\n",
       "</style>\n",
       "<table border=\"1\" class=\"dataframe\">\n",
       "  <thead>\n",
       "    <tr style=\"text-align: right;\">\n",
       "      <th></th>\n",
       "      <th>MONTH</th>\n",
       "      <th>WEEKOFMONTH</th>\n",
       "      <th>DAYOFWEEK</th>\n",
       "      <th>MAKE</th>\n",
       "      <th>ACCIDENTAREA</th>\n",
       "      <th>DAYOFWEEKCLAIMED</th>\n",
       "      <th>MONTHCLAIMED</th>\n",
       "      <th>WEEKOFMONTHCLAIMED</th>\n",
       "      <th>SEX</th>\n",
       "      <th>MARITALSTATUS</th>\n",
       "      <th>...</th>\n",
       "      <th>AGEOFPOLICYHOLDER</th>\n",
       "      <th>POLICEREPORTFILED</th>\n",
       "      <th>WITNESSPRESENT</th>\n",
       "      <th>AGENTTYPE</th>\n",
       "      <th>NUMBEROFSUPPLIMENTS</th>\n",
       "      <th>ADDRESSCHANGE_CLAIM</th>\n",
       "      <th>NUMBEROFCARS</th>\n",
       "      <th>YEAR</th>\n",
       "      <th>BASEPOLICY</th>\n",
       "      <th>FRAUDFOUND</th>\n",
       "    </tr>\n",
       "  </thead>\n",
       "  <tbody>\n",
       "    <tr>\n",
       "      <th>0</th>\n",
       "      <td>Jul</td>\n",
       "      <td>3</td>\n",
       "      <td>Sunday</td>\n",
       "      <td>Honda</td>\n",
       "      <td>Rural</td>\n",
       "      <td>Wednesday</td>\n",
       "      <td>Jan</td>\n",
       "      <td>4</td>\n",
       "      <td>Male</td>\n",
       "      <td>Married</td>\n",
       "      <td>...</td>\n",
       "      <td>26_to_30</td>\n",
       "      <td>No</td>\n",
       "      <td>No</td>\n",
       "      <td>External</td>\n",
       "      <td>3_to_5</td>\n",
       "      <td>no_change</td>\n",
       "      <td>1-vehicle</td>\n",
       "      <td>1994</td>\n",
       "      <td>Collision</td>\n",
       "      <td>Yes</td>\n",
       "    </tr>\n",
       "    <tr>\n",
       "      <th>1</th>\n",
       "      <td>Nov</td>\n",
       "      <td>5</td>\n",
       "      <td>Monday</td>\n",
       "      <td>Mazda</td>\n",
       "      <td>Urban</td>\n",
       "      <td>Wednesday</td>\n",
       "      <td>Dec</td>\n",
       "      <td>1</td>\n",
       "      <td>Male</td>\n",
       "      <td>Single</td>\n",
       "      <td>...</td>\n",
       "      <td>over_65</td>\n",
       "      <td>No</td>\n",
       "      <td>No</td>\n",
       "      <td>External</td>\n",
       "      <td>none</td>\n",
       "      <td>no_change</td>\n",
       "      <td>1-vehicle</td>\n",
       "      <td>1994</td>\n",
       "      <td>All_Perils</td>\n",
       "      <td>Yes</td>\n",
       "    </tr>\n",
       "    <tr>\n",
       "      <th>2</th>\n",
       "      <td>Jan</td>\n",
       "      <td>1</td>\n",
       "      <td>Monday</td>\n",
       "      <td>Pontiac</td>\n",
       "      <td>Urban</td>\n",
       "      <td>Wednesday</td>\n",
       "      <td>Jan</td>\n",
       "      <td>1</td>\n",
       "      <td>Male</td>\n",
       "      <td>Married</td>\n",
       "      <td>...</td>\n",
       "      <td>41_to_50</td>\n",
       "      <td>No</td>\n",
       "      <td>No</td>\n",
       "      <td>External</td>\n",
       "      <td>none</td>\n",
       "      <td>under_6_months</td>\n",
       "      <td>1-vehicle</td>\n",
       "      <td>1994</td>\n",
       "      <td>All_Perils</td>\n",
       "      <td>Yes</td>\n",
       "    </tr>\n",
       "    <tr>\n",
       "      <th>3</th>\n",
       "      <td>Dec</td>\n",
       "      <td>1</td>\n",
       "      <td>Monday</td>\n",
       "      <td>Toyota</td>\n",
       "      <td>Rural</td>\n",
       "      <td>Tuesday</td>\n",
       "      <td>May</td>\n",
       "      <td>3</td>\n",
       "      <td>Male</td>\n",
       "      <td>Married</td>\n",
       "      <td>...</td>\n",
       "      <td>36_to_40</td>\n",
       "      <td>No</td>\n",
       "      <td>No</td>\n",
       "      <td>External</td>\n",
       "      <td>more_than_5</td>\n",
       "      <td>under_6_months</td>\n",
       "      <td>2-vehicles</td>\n",
       "      <td>1994</td>\n",
       "      <td>All_Perils</td>\n",
       "      <td>Yes</td>\n",
       "    </tr>\n",
       "    <tr>\n",
       "      <th>4</th>\n",
       "      <td>Dec</td>\n",
       "      <td>5</td>\n",
       "      <td>Wednesday</td>\n",
       "      <td>Pontiac</td>\n",
       "      <td>Urban</td>\n",
       "      <td>Wednesday</td>\n",
       "      <td>Jan</td>\n",
       "      <td>1</td>\n",
       "      <td>Male</td>\n",
       "      <td>Single</td>\n",
       "      <td>...</td>\n",
       "      <td>36_to_40</td>\n",
       "      <td>No</td>\n",
       "      <td>No</td>\n",
       "      <td>External</td>\n",
       "      <td>more_than_5</td>\n",
       "      <td>no_change</td>\n",
       "      <td>1-vehicle</td>\n",
       "      <td>1994</td>\n",
       "      <td>Collision</td>\n",
       "      <td>Yes</td>\n",
       "    </tr>\n",
       "    <tr>\n",
       "      <th>...</th>\n",
       "      <td>...</td>\n",
       "      <td>...</td>\n",
       "      <td>...</td>\n",
       "      <td>...</td>\n",
       "      <td>...</td>\n",
       "      <td>...</td>\n",
       "      <td>...</td>\n",
       "      <td>...</td>\n",
       "      <td>...</td>\n",
       "      <td>...</td>\n",
       "      <td>...</td>\n",
       "      <td>...</td>\n",
       "      <td>...</td>\n",
       "      <td>...</td>\n",
       "      <td>...</td>\n",
       "      <td>...</td>\n",
       "      <td>...</td>\n",
       "      <td>...</td>\n",
       "      <td>...</td>\n",
       "      <td>...</td>\n",
       "      <td>...</td>\n",
       "    </tr>\n",
       "    <tr>\n",
       "      <th>12913</th>\n",
       "      <td>Dec</td>\n",
       "      <td>1</td>\n",
       "      <td>Tuesday</td>\n",
       "      <td>Pontiac</td>\n",
       "      <td>Urban</td>\n",
       "      <td>Thursday</td>\n",
       "      <td>Feb</td>\n",
       "      <td>1</td>\n",
       "      <td>Male</td>\n",
       "      <td>Married</td>\n",
       "      <td>...</td>\n",
       "      <td>51_to_65</td>\n",
       "      <td>No</td>\n",
       "      <td>No</td>\n",
       "      <td>External</td>\n",
       "      <td>none</td>\n",
       "      <td>4_to_8_years</td>\n",
       "      <td>2-vehicles</td>\n",
       "      <td>1995</td>\n",
       "      <td>All_Perils</td>\n",
       "      <td>No</td>\n",
       "    </tr>\n",
       "    <tr>\n",
       "      <th>12914</th>\n",
       "      <td>Oct</td>\n",
       "      <td>2</td>\n",
       "      <td>Tuesday</td>\n",
       "      <td>Accura</td>\n",
       "      <td>Urban</td>\n",
       "      <td>Thursday</td>\n",
       "      <td>Oct</td>\n",
       "      <td>3</td>\n",
       "      <td>Male</td>\n",
       "      <td>Married</td>\n",
       "      <td>...</td>\n",
       "      <td>31_to_35</td>\n",
       "      <td>No</td>\n",
       "      <td>No</td>\n",
       "      <td>External</td>\n",
       "      <td>3_to_5</td>\n",
       "      <td>no_change</td>\n",
       "      <td>1-vehicle</td>\n",
       "      <td>1994</td>\n",
       "      <td>Collision</td>\n",
       "      <td>No</td>\n",
       "    </tr>\n",
       "    <tr>\n",
       "      <th>12915</th>\n",
       "      <td>Apr</td>\n",
       "      <td>4</td>\n",
       "      <td>Monday</td>\n",
       "      <td>Toyota</td>\n",
       "      <td>Urban</td>\n",
       "      <td>Wednesday</td>\n",
       "      <td>Apr</td>\n",
       "      <td>4</td>\n",
       "      <td>Male</td>\n",
       "      <td>Married</td>\n",
       "      <td>...</td>\n",
       "      <td>over_65</td>\n",
       "      <td>No</td>\n",
       "      <td>No</td>\n",
       "      <td>External</td>\n",
       "      <td>more_than_5</td>\n",
       "      <td>no_change</td>\n",
       "      <td>1-vehicle</td>\n",
       "      <td>1995</td>\n",
       "      <td>All_Perils</td>\n",
       "      <td>No</td>\n",
       "    </tr>\n",
       "    <tr>\n",
       "      <th>12916</th>\n",
       "      <td>Jun</td>\n",
       "      <td>2</td>\n",
       "      <td>Friday</td>\n",
       "      <td>Mazda</td>\n",
       "      <td>Urban</td>\n",
       "      <td>Friday</td>\n",
       "      <td>Jun</td>\n",
       "      <td>2</td>\n",
       "      <td>Male</td>\n",
       "      <td>Married</td>\n",
       "      <td>...</td>\n",
       "      <td>over_65</td>\n",
       "      <td>No</td>\n",
       "      <td>No</td>\n",
       "      <td>External</td>\n",
       "      <td>more_than_5</td>\n",
       "      <td>no_change</td>\n",
       "      <td>1-vehicle</td>\n",
       "      <td>1996</td>\n",
       "      <td>Collision</td>\n",
       "      <td>No</td>\n",
       "    </tr>\n",
       "    <tr>\n",
       "      <th>12917</th>\n",
       "      <td>Jun</td>\n",
       "      <td>2</td>\n",
       "      <td>Wednesday</td>\n",
       "      <td>Chevrolet</td>\n",
       "      <td>Urban</td>\n",
       "      <td>Wednesday</td>\n",
       "      <td>Jun</td>\n",
       "      <td>2</td>\n",
       "      <td>Male</td>\n",
       "      <td>Married</td>\n",
       "      <td>...</td>\n",
       "      <td>41_to_50</td>\n",
       "      <td>No</td>\n",
       "      <td>No</td>\n",
       "      <td>External</td>\n",
       "      <td>3_to_5</td>\n",
       "      <td>no_change</td>\n",
       "      <td>1-vehicle</td>\n",
       "      <td>1996</td>\n",
       "      <td>Collision</td>\n",
       "      <td>No</td>\n",
       "    </tr>\n",
       "  </tbody>\n",
       "</table>\n",
       "<p>12918 rows × 32 columns</p>\n",
       "</div>"
      ],
      "text/plain": [
       "      MONTH  WEEKOFMONTH  DAYOFWEEK       MAKE ACCIDENTAREA DAYOFWEEKCLAIMED  \\\n",
       "0       Jul            3     Sunday      Honda        Rural        Wednesday   \n",
       "1       Nov            5     Monday      Mazda        Urban        Wednesday   \n",
       "2       Jan            1     Monday    Pontiac        Urban        Wednesday   \n",
       "3       Dec            1     Monday     Toyota        Rural          Tuesday   \n",
       "4       Dec            5  Wednesday    Pontiac        Urban        Wednesday   \n",
       "...     ...          ...        ...        ...          ...              ...   \n",
       "12913   Dec            1    Tuesday    Pontiac        Urban         Thursday   \n",
       "12914   Oct            2    Tuesday     Accura        Urban         Thursday   \n",
       "12915   Apr            4     Monday     Toyota        Urban        Wednesday   \n",
       "12916   Jun            2     Friday      Mazda        Urban           Friday   \n",
       "12917   Jun            2  Wednesday  Chevrolet        Urban        Wednesday   \n",
       "\n",
       "      MONTHCLAIMED  WEEKOFMONTHCLAIMED   SEX MARITALSTATUS  ...  \\\n",
       "0              Jan                   4  Male       Married  ...   \n",
       "1              Dec                   1  Male        Single  ...   \n",
       "2              Jan                   1  Male       Married  ...   \n",
       "3              May                   3  Male       Married  ...   \n",
       "4              Jan                   1  Male        Single  ...   \n",
       "...            ...                 ...   ...           ...  ...   \n",
       "12913          Feb                   1  Male       Married  ...   \n",
       "12914          Oct                   3  Male       Married  ...   \n",
       "12915          Apr                   4  Male       Married  ...   \n",
       "12916          Jun                   2  Male       Married  ...   \n",
       "12917          Jun                   2  Male       Married  ...   \n",
       "\n",
       "       AGEOFPOLICYHOLDER POLICEREPORTFILED WITNESSPRESENT AGENTTYPE  \\\n",
       "0               26_to_30                No             No  External   \n",
       "1                over_65                No             No  External   \n",
       "2               41_to_50                No             No  External   \n",
       "3               36_to_40                No             No  External   \n",
       "4               36_to_40                No             No  External   \n",
       "...                  ...               ...            ...       ...   \n",
       "12913           51_to_65                No             No  External   \n",
       "12914           31_to_35                No             No  External   \n",
       "12915            over_65                No             No  External   \n",
       "12916            over_65                No             No  External   \n",
       "12917           41_to_50                No             No  External   \n",
       "\n",
       "      NUMBEROFSUPPLIMENTS  ADDRESSCHANGE_CLAIM  NUMBEROFCARS  YEAR  \\\n",
       "0                  3_to_5            no_change     1-vehicle  1994   \n",
       "1                    none            no_change     1-vehicle  1994   \n",
       "2                    none       under_6_months     1-vehicle  1994   \n",
       "3             more_than_5       under_6_months    2-vehicles  1994   \n",
       "4             more_than_5            no_change     1-vehicle  1994   \n",
       "...                   ...                  ...           ...   ...   \n",
       "12913                none         4_to_8_years    2-vehicles  1995   \n",
       "12914              3_to_5            no_change     1-vehicle  1994   \n",
       "12915         more_than_5            no_change     1-vehicle  1995   \n",
       "12916         more_than_5            no_change     1-vehicle  1996   \n",
       "12917              3_to_5            no_change     1-vehicle  1996   \n",
       "\n",
       "       BASEPOLICY FRAUDFOUND  \n",
       "0       Collision        Yes  \n",
       "1      All_Perils        Yes  \n",
       "2      All_Perils        Yes  \n",
       "3      All_Perils        Yes  \n",
       "4       Collision        Yes  \n",
       "...           ...        ...  \n",
       "12913  All_Perils         No  \n",
       "12914   Collision         No  \n",
       "12915  All_Perils         No  \n",
       "12916   Collision         No  \n",
       "12917   Collision         No  \n",
       "\n",
       "[12918 rows x 32 columns]"
      ]
     },
     "metadata": {},
     "output_type": "display_data"
    }
   ],
   "source": [
    "F_test = pd.read_csv('/Users/jiwonmoon/Desktop/CIS 508/Data Mining I/Assignments/Individual Assignment 2/data/Insurance Fraud -TEST-12900.csv')\n",
    "display(F_test)\n",
    "\n",
    "test = pd.DataFrame(F_test)"
   ]
  },
  {
   "cell_type": "code",
   "execution_count": 4,
   "metadata": {
    "colab": {
     "base_uri": "https://localhost:8080/"
    },
    "executionInfo": {
     "elapsed": 11,
     "status": "ok",
     "timestamp": 1664030032551,
     "user": {
      "displayName": "Jiwon Moon",
      "userId": "18188594087359353260"
     },
     "user_tz": 420
    },
    "id": "rqPck_djfJsI",
    "outputId": "ea860d63-7578-4260-b2d2-35f8bcbce34a"
   },
   "outputs": [
    {
     "name": "stdout",
     "output_type": "stream",
     "text": [
      "<class 'pandas.core.frame.DataFrame'>\n",
      "RangeIndex: 2999 entries, 0 to 2998\n",
      "Data columns (total 32 columns):\n",
      " #   Column                Non-Null Count  Dtype \n",
      "---  ------                --------------  ----- \n",
      " 0   MONTH                 2999 non-null   object\n",
      " 1   WEEKOFMONTH           2999 non-null   int64 \n",
      " 2   DAYOFWEEK             2999 non-null   object\n",
      " 3   MAKE                  2999 non-null   object\n",
      " 4   ACCIDENTAREA          2999 non-null   object\n",
      " 5   DAYOFWEEKCLAIMED      2999 non-null   object\n",
      " 6   MONTHCLAIMED          2999 non-null   object\n",
      " 7   WEEKOFMONTHCLAIMED    2999 non-null   int64 \n",
      " 8   SEX                   2999 non-null   object\n",
      " 9   MARITALSTATUS         2999 non-null   object\n",
      " 10  AGE                   2999 non-null   int64 \n",
      " 11  FAULT                 2999 non-null   object\n",
      " 12  POLICYTYPE            2999 non-null   object\n",
      " 13  VEHICLECATEGORY       2999 non-null   object\n",
      " 14  VEHICLEPRICE          2999 non-null   object\n",
      " 15  REPNUMBER             2999 non-null   int64 \n",
      " 16  DEDUCTIBLE            2999 non-null   int64 \n",
      " 17  DRIVERRATING          2999 non-null   int64 \n",
      " 18  DAYS_POLICY_ACCIDENT  2999 non-null   object\n",
      " 19  DAYS_POLICY_CLAIM     2999 non-null   object\n",
      " 20  PASTNUMBEROFCLAIMS    2999 non-null   object\n",
      " 21  AGEOFVEHICLE          2999 non-null   object\n",
      " 22  AGEOFPOLICYHOLDER     2999 non-null   object\n",
      " 23  POLICEREPORTFILED     2999 non-null   object\n",
      " 24  WITNESSPRESENT        2999 non-null   object\n",
      " 25  AGENTTYPE             2999 non-null   object\n",
      " 26  NUMBEROFSUPPLIMENTS   2999 non-null   object\n",
      " 27  ADDRESSCHANGE_CLAIM   2999 non-null   object\n",
      " 28  NUMBEROFCARS          2999 non-null   object\n",
      " 29  YEAR                  2999 non-null   int64 \n",
      " 30  BASEPOLICY            2999 non-null   object\n",
      " 31  FRAUDFOUND            2999 non-null   object\n",
      "dtypes: int64(7), object(25)\n",
      "memory usage: 749.9+ KB\n"
     ]
    }
   ],
   "source": [
    "train.info()"
   ]
  },
  {
   "cell_type": "code",
   "execution_count": 5,
   "metadata": {
    "colab": {
     "base_uri": "https://localhost:8080/"
    },
    "executionInfo": {
     "elapsed": 7,
     "status": "ok",
     "timestamp": 1664030032552,
     "user": {
      "displayName": "Jiwon Moon",
      "userId": "18188594087359353260"
     },
     "user_tz": 420
    },
    "id": "-WRydOPbfcbh",
    "outputId": "13929a37-354d-4d5f-a0a8-7ca20c10a0de"
   },
   "outputs": [
    {
     "name": "stdout",
     "output_type": "stream",
     "text": [
      "<class 'pandas.core.frame.DataFrame'>\n",
      "RangeIndex: 12918 entries, 0 to 12917\n",
      "Data columns (total 32 columns):\n",
      " #   Column                Non-Null Count  Dtype \n",
      "---  ------                --------------  ----- \n",
      " 0   MONTH                 12918 non-null  object\n",
      " 1   WEEKOFMONTH           12918 non-null  int64 \n",
      " 2   DAYOFWEEK             12918 non-null  object\n",
      " 3   MAKE                  12918 non-null  object\n",
      " 4   ACCIDENTAREA          12918 non-null  object\n",
      " 5   DAYOFWEEKCLAIMED      12918 non-null  object\n",
      " 6   MONTHCLAIMED          12918 non-null  object\n",
      " 7   WEEKOFMONTHCLAIMED    12918 non-null  int64 \n",
      " 8   SEX                   12918 non-null  object\n",
      " 9   MARITALSTATUS         12918 non-null  object\n",
      " 10  AGE                   12918 non-null  int64 \n",
      " 11  FAULT                 12918 non-null  object\n",
      " 12  POLICYTYPE            12918 non-null  object\n",
      " 13  VEHICLECATEGORY       12918 non-null  object\n",
      " 14  VEHICLEPRICE          12918 non-null  object\n",
      " 15  REPNUMBER             12918 non-null  int64 \n",
      " 16  DEDUCTIBLE            12918 non-null  int64 \n",
      " 17  DRIVERRATING          12918 non-null  int64 \n",
      " 18  DAYS_POLICY_ACCIDENT  12918 non-null  object\n",
      " 19  DAYS_POLICY_CLAIM     12918 non-null  object\n",
      " 20  PASTNUMBEROFCLAIMS    12918 non-null  object\n",
      " 21  AGEOFVEHICLE          12918 non-null  object\n",
      " 22  AGEOFPOLICYHOLDER     12918 non-null  object\n",
      " 23  POLICEREPORTFILED     12918 non-null  object\n",
      " 24  WITNESSPRESENT        12918 non-null  object\n",
      " 25  AGENTTYPE             12918 non-null  object\n",
      " 26  NUMBEROFSUPPLIMENTS   12918 non-null  object\n",
      " 27  ADDRESSCHANGE_CLAIM   12918 non-null  object\n",
      " 28  NUMBEROFCARS          12918 non-null  object\n",
      " 29  YEAR                  12918 non-null  int64 \n",
      " 30  BASEPOLICY            12918 non-null  object\n",
      " 31  FRAUDFOUND            12918 non-null  object\n",
      "dtypes: int64(7), object(25)\n",
      "memory usage: 3.2+ MB\n"
     ]
    }
   ],
   "source": [
    "test.info()"
   ]
  },
  {
   "cell_type": "code",
   "execution_count": 6,
   "metadata": {
    "colab": {
     "base_uri": "https://localhost:8080/"
    },
    "executionInfo": {
     "elapsed": 6,
     "status": "ok",
     "timestamp": 1664030032552,
     "user": {
      "displayName": "Jiwon Moon",
      "userId": "18188594087359353260"
     },
     "user_tz": 420
    },
    "id": "nTaIyMcIfeCI",
    "outputId": "253fac9a-474b-4bb8-d0d7-8f95404f9ff9"
   },
   "outputs": [
    {
     "data": {
      "text/plain": [
       "MONTH                   0\n",
       "WEEKOFMONTH             0\n",
       "BASEPOLICY              0\n",
       "YEAR                    0\n",
       "NUMBEROFCARS            0\n",
       "ADDRESSCHANGE_CLAIM     0\n",
       "NUMBEROFSUPPLIMENTS     0\n",
       "AGENTTYPE               0\n",
       "WITNESSPRESENT          0\n",
       "POLICEREPORTFILED       0\n",
       "AGEOFPOLICYHOLDER       0\n",
       "AGEOFVEHICLE            0\n",
       "PASTNUMBEROFCLAIMS      0\n",
       "DAYS_POLICY_CLAIM       0\n",
       "DAYS_POLICY_ACCIDENT    0\n",
       "DRIVERRATING            0\n",
       "DEDUCTIBLE              0\n",
       "REPNUMBER               0\n",
       "VEHICLEPRICE            0\n",
       "VEHICLECATEGORY         0\n",
       "POLICYTYPE              0\n",
       "FAULT                   0\n",
       "AGE                     0\n",
       "MARITALSTATUS           0\n",
       "SEX                     0\n",
       "WEEKOFMONTHCLAIMED      0\n",
       "MONTHCLAIMED            0\n",
       "DAYOFWEEKCLAIMED        0\n",
       "ACCIDENTAREA            0\n",
       "MAKE                    0\n",
       "DAYOFWEEK               0\n",
       "FRAUDFOUND              0\n",
       "dtype: int64"
      ]
     },
     "execution_count": 6,
     "metadata": {},
     "output_type": "execute_result"
    }
   ],
   "source": [
    "# Finding the null value\n",
    "na_train = train.isnull()\n",
    "na_sum_train = na_train.sum()\n",
    "na_sum_train = na_sum_train.sort_values(ascending=False)\n",
    "\n",
    "na_sum_train"
   ]
  },
  {
   "cell_type": "code",
   "execution_count": 7,
   "metadata": {
    "colab": {
     "base_uri": "https://localhost:8080/"
    },
    "executionInfo": {
     "elapsed": 4,
     "status": "ok",
     "timestamp": 1664030032552,
     "user": {
      "displayName": "Jiwon Moon",
      "userId": "18188594087359353260"
     },
     "user_tz": 420
    },
    "id": "zf9n5jzifpYs",
    "outputId": "ea0cf0a2-9e8c-4c0f-bc1c-3341f6e939ff"
   },
   "outputs": [
    {
     "name": "stdout",
     "output_type": "stream",
     "text": [
      "MONTH : 12\n",
      "DAYOFWEEK : 7\n",
      "MAKE : 16\n",
      "ACCIDENTAREA : 2\n",
      "DAYOFWEEKCLAIMED : 7\n",
      "MONTHCLAIMED : 12\n",
      "SEX : 2\n",
      "MARITALSTATUS : 4\n",
      "FAULT : 2\n",
      "POLICYTYPE : 8\n",
      "VEHICLECATEGORY : 3\n",
      "VEHICLEPRICE : 6\n",
      "DAYS_POLICY_ACCIDENT : 5\n",
      "DAYS_POLICY_CLAIM : 3\n",
      "PASTNUMBEROFCLAIMS : 4\n",
      "AGEOFVEHICLE : 8\n",
      "AGEOFPOLICYHOLDER : 9\n",
      "POLICEREPORTFILED : 2\n",
      "WITNESSPRESENT : 2\n",
      "AGENTTYPE : 2\n",
      "NUMBEROFSUPPLIMENTS : 4\n",
      "ADDRESSCHANGE_CLAIM : 5\n",
      "NUMBEROFCARS : 4\n",
      "BASEPOLICY : 3\n",
      "FRAUDFOUND : 2\n"
     ]
    }
   ],
   "source": [
    "for i in train.columns:\n",
    "  if train[i].dtype == 'object':\n",
    "    print(i, ':', train[i].nunique())"
   ]
  },
  {
   "cell_type": "code",
   "execution_count": 8,
   "metadata": {
    "colab": {
     "base_uri": "https://localhost:8080/"
    },
    "executionInfo": {
     "elapsed": 193,
     "status": "ok",
     "timestamp": 1664030032742,
     "user": {
      "displayName": "Jiwon Moon",
      "userId": "18188594087359353260"
     },
     "user_tz": 420
    },
    "id": "8It7l-klYLPu",
    "outputId": "28d99788-d0e1-402e-c8d3-8c2a1dcd3471"
   },
   "outputs": [
    {
     "name": "stdout",
     "output_type": "stream",
     "text": [
      "MONTH : 12\n",
      "DAYOFWEEK : 7\n",
      "MAKE : 19\n",
      "ACCIDENTAREA : 2\n",
      "DAYOFWEEKCLAIMED : 7\n",
      "MONTHCLAIMED : 12\n",
      "SEX : 2\n",
      "MARITALSTATUS : 4\n",
      "FAULT : 2\n",
      "POLICYTYPE : 9\n",
      "VEHICLECATEGORY : 3\n",
      "VEHICLEPRICE : 6\n",
      "DAYS_POLICY_ACCIDENT : 5\n",
      "DAYS_POLICY_CLAIM : 3\n",
      "PASTNUMBEROFCLAIMS : 4\n",
      "AGEOFVEHICLE : 8\n",
      "AGEOFPOLICYHOLDER : 9\n",
      "POLICEREPORTFILED : 2\n",
      "WITNESSPRESENT : 2\n",
      "AGENTTYPE : 2\n",
      "NUMBEROFSUPPLIMENTS : 4\n",
      "ADDRESSCHANGE_CLAIM : 5\n",
      "NUMBEROFCARS : 5\n",
      "BASEPOLICY : 3\n",
      "FRAUDFOUND : 2\n"
     ]
    }
   ],
   "source": [
    "for i in test.columns:\n",
    "  if test[i].dtype == 'object':\n",
    "    print(i, ':', test[i].nunique())"
   ]
  },
  {
   "cell_type": "code",
   "execution_count": 9,
   "metadata": {
    "executionInfo": {
     "elapsed": 5,
     "status": "ok",
     "timestamp": 1664030032743,
     "user": {
      "displayName": "Jiwon Moon",
      "userId": "18188594087359353260"
     },
     "user_tz": 420
    },
    "id": "CTtBSLc6f9RL"
   },
   "outputs": [],
   "source": [
    "# Change 'FRAUDFOUND' as 1 and 0 -> target column\n",
    "\n",
    "train['FRAUDFOUND'] = train['FRAUDFOUND'].str.replace('Yes', '1')\n",
    "train['FRAUDFOUND'] = train['FRAUDFOUND'].str.replace('No', '0')\n",
    "train['FRAUDFOUND'] = train['FRAUDFOUND'].astype(int)\n",
    "\n",
    "test['FRAUDFOUND'] = test['FRAUDFOUND'].str.replace('Yes', '1')\n",
    "test['FRAUDFOUND'] = test['FRAUDFOUND'].str.replace('No', '0')\n",
    "test['FRAUDFOUND'] = test['FRAUDFOUND'].astype(int)"
   ]
  },
  {
   "cell_type": "code",
   "execution_count": 10,
   "metadata": {
    "colab": {
     "base_uri": "https://localhost:8080/"
    },
    "executionInfo": {
     "elapsed": 5,
     "status": "ok",
     "timestamp": 1664030032743,
     "user": {
      "displayName": "Jiwon Moon",
      "userId": "18188594087359353260"
     },
     "user_tz": 420
    },
    "id": "VeSOKtJcgssW",
    "outputId": "95e47e02-4e74-44fe-fdf0-2c4b4df78603"
   },
   "outputs": [
    {
     "data": {
      "text/plain": [
       "array([1, 0])"
      ]
     },
     "execution_count": 10,
     "metadata": {},
     "output_type": "execute_result"
    }
   ],
   "source": [
    "train['FRAUDFOUND'].unique()"
   ]
  },
  {
   "cell_type": "code",
   "execution_count": 11,
   "metadata": {
    "colab": {
     "base_uri": "https://localhost:8080/"
    },
    "executionInfo": {
     "elapsed": 3,
     "status": "ok",
     "timestamp": 1664030032743,
     "user": {
      "displayName": "Jiwon Moon",
      "userId": "18188594087359353260"
     },
     "user_tz": 420
    },
    "id": "sXU3dDueYSGT",
    "outputId": "e47f87c4-0b02-4128-c181-d057a8d48174"
   },
   "outputs": [
    {
     "data": {
      "text/plain": [
       "array([1, 0])"
      ]
     },
     "execution_count": 11,
     "metadata": {},
     "output_type": "execute_result"
    }
   ],
   "source": [
    "test['FRAUDFOUND'].unique()"
   ]
  },
  {
   "cell_type": "code",
   "execution_count": 12,
   "metadata": {
    "colab": {
     "base_uri": "https://localhost:8080/"
    },
    "executionInfo": {
     "elapsed": 3,
     "status": "ok",
     "timestamp": 1664030032743,
     "user": {
      "displayName": "Jiwon Moon",
      "userId": "18188594087359353260"
     },
     "user_tz": 420
    },
    "id": "lg9hOreTg4Xa",
    "outputId": "70089a41-f828-477f-e895-82219b4665bd"
   },
   "outputs": [
    {
     "data": {
      "text/plain": [
       "0    2600\n",
       "1     399\n",
       "Name: FRAUDFOUND, dtype: int64"
      ]
     },
     "execution_count": 12,
     "metadata": {},
     "output_type": "execute_result"
    }
   ],
   "source": [
    "train['FRAUDFOUND'].value_counts()"
   ]
  },
  {
   "cell_type": "code",
   "execution_count": 13,
   "metadata": {
    "colab": {
     "base_uri": "https://localhost:8080/"
    },
    "executionInfo": {
     "elapsed": 274,
     "status": "ok",
     "timestamp": 1664030033015,
     "user": {
      "displayName": "Jiwon Moon",
      "userId": "18188594087359353260"
     },
     "user_tz": 420
    },
    "id": "h3cr-KHTYVDd",
    "outputId": "14c17c79-4b89-4021-cd92-596382c07f93"
   },
   "outputs": [
    {
     "data": {
      "text/plain": [
       "0    12420\n",
       "1      498\n",
       "Name: FRAUDFOUND, dtype: int64"
      ]
     },
     "execution_count": 13,
     "metadata": {},
     "output_type": "execute_result"
    }
   ],
   "source": [
    "test['FRAUDFOUND'].value_counts()"
   ]
  },
  {
   "cell_type": "markdown",
   "metadata": {
    "id": "jRxEyIEcjCrj"
   },
   "source": [
    "# Data Encoding"
   ]
  },
  {
   "cell_type": "code",
   "execution_count": 14,
   "metadata": {
    "colab": {
     "base_uri": "https://localhost:8080/"
    },
    "executionInfo": {
     "elapsed": 5,
     "status": "ok",
     "timestamp": 1664030033015,
     "user": {
      "displayName": "Jiwon Moon",
      "userId": "18188594087359353260"
     },
     "user_tz": 420
    },
    "id": "gAfoySuHjAxN",
    "outputId": "8be97c85-e533-4054-8028-5a885ffc70d9"
   },
   "outputs": [
    {
     "data": {
      "text/plain": [
       "24"
      ]
     },
     "execution_count": 14,
     "metadata": {},
     "output_type": "execute_result"
    }
   ],
   "source": [
    "encode_col_train = []\n",
    "for col in train.columns:\n",
    "  if train[col].dtype == 'object':\n",
    "    encode_col_train.append(col)\n",
    "\n",
    "len(encode_col_train)"
   ]
  },
  {
   "cell_type": "code",
   "execution_count": 15,
   "metadata": {
    "colab": {
     "base_uri": "https://localhost:8080/"
    },
    "executionInfo": {
     "elapsed": 4,
     "status": "ok",
     "timestamp": 1664030033015,
     "user": {
      "displayName": "Jiwon Moon",
      "userId": "18188594087359353260"
     },
     "user_tz": 420
    },
    "id": "FtWKTIwiTUtH",
    "outputId": "b08dcd09-2746-4fe3-d218-38e1d8d59f37"
   },
   "outputs": [
    {
     "data": {
      "text/plain": [
       "24"
      ]
     },
     "execution_count": 15,
     "metadata": {},
     "output_type": "execute_result"
    }
   ],
   "source": [
    "encode_col_test = []\n",
    "for col in test.columns:\n",
    "  if test[col].dtype == 'object':\n",
    "    encode_col_test.append(col)\n",
    "\n",
    "len(encode_col_test)"
   ]
  },
  {
   "cell_type": "code",
   "execution_count": 16,
   "metadata": {
    "colab": {
     "base_uri": "https://localhost:8080/"
    },
    "executionInfo": {
     "elapsed": 4,
     "status": "ok",
     "timestamp": 1664030033016,
     "user": {
      "displayName": "Jiwon Moon",
      "userId": "18188594087359353260"
     },
     "user_tz": 420
    },
    "id": "zXwwMmuknnL4",
    "outputId": "a597e481-80eb-4c4b-9d13-98c6c612813e"
   },
   "outputs": [
    {
     "data": {
      "text/plain": [
       "Index(['WEEKOFMONTH', 'WEEKOFMONTHCLAIMED', 'AGE', 'REPNUMBER', 'DEDUCTIBLE',\n",
       "       'DRIVERRATING', 'YEAR', 'FRAUDFOUND', 'MONTH_Apr', 'MONTH_Aug',\n",
       "       ...\n",
       "       'ADDRESSCHANGE_CLAIM_4_to_8_years', 'ADDRESSCHANGE_CLAIM_no_change',\n",
       "       'ADDRESSCHANGE_CLAIM_under_6_months', 'NUMBEROFCARS_1-vehicle',\n",
       "       'NUMBEROFCARS_2-vehicles', 'NUMBEROFCARS_3_to_4', 'NUMBEROFCARS_5_to_8',\n",
       "       'BASEPOLICY_All_Perils', 'BASEPOLICY_Collision',\n",
       "       'BASEPOLICY_Liability'],\n",
       "      dtype='object', length=140)"
      ]
     },
     "execution_count": 16,
     "metadata": {},
     "output_type": "execute_result"
    }
   ],
   "source": [
    "df = pd.get_dummies(train, columns = encode_col_train)\n",
    "\n",
    "df.head()\n",
    "df.shape\n",
    "df.columns"
   ]
  },
  {
   "cell_type": "code",
   "execution_count": 17,
   "metadata": {
    "colab": {
     "base_uri": "https://localhost:8080/"
    },
    "executionInfo": {
     "elapsed": 4,
     "status": "ok",
     "timestamp": 1664030033016,
     "user": {
      "displayName": "Jiwon Moon",
      "userId": "18188594087359353260"
     },
     "user_tz": 420
    },
    "id": "zvtUjWI3Tage",
    "outputId": "884d3e7a-ea8b-4014-a6a3-00e4f22233d1"
   },
   "outputs": [
    {
     "data": {
      "text/plain": [
       "Index(['WEEKOFMONTH', 'WEEKOFMONTHCLAIMED', 'AGE', 'REPNUMBER', 'DEDUCTIBLE',\n",
       "       'DRIVERRATING', 'YEAR', 'FRAUDFOUND', 'MONTH_Apr', 'MONTH_Aug',\n",
       "       ...\n",
       "       'ADDRESSCHANGE_CLAIM_no_change', 'ADDRESSCHANGE_CLAIM_under_6_months',\n",
       "       'NUMBEROFCARS_1-vehicle', 'NUMBEROFCARS_2-vehicles',\n",
       "       'NUMBEROFCARS_3_to_4', 'NUMBEROFCARS_5_to_8',\n",
       "       'NUMBEROFCARS_more_than_8', 'BASEPOLICY_All_Perils',\n",
       "       'BASEPOLICY_Collision', 'BASEPOLICY_Liability'],\n",
       "      dtype='object', length=145)"
      ]
     },
     "execution_count": 17,
     "metadata": {},
     "output_type": "execute_result"
    }
   ],
   "source": [
    "dft = pd.get_dummies(test, columns = encode_col_test)\n",
    "\n",
    "dft.head()\n",
    "dft.shape\n",
    "dft.columns"
   ]
  },
  {
   "cell_type": "code",
   "execution_count": 18,
   "metadata": {
    "colab": {
     "base_uri": "https://localhost:8080/"
    },
    "executionInfo": {
     "elapsed": 3,
     "status": "ok",
     "timestamp": 1664030033016,
     "user": {
      "displayName": "Jiwon Moon",
      "userId": "18188594087359353260"
     },
     "user_tz": 420
    },
    "id": "xlkoQI3_bYkA",
    "outputId": "94db613c-1494-49a2-c232-549c4a3b3de3"
   },
   "outputs": [
    {
     "data": {
      "text/plain": [
       "['MAKE_Ferrari',\n",
       " 'MAKE_Jaguar',\n",
       " 'MAKE_Lexus',\n",
       " 'POLICYTYPE_Sport-Liability',\n",
       " 'NUMBEROFCARS_more_than_8']"
      ]
     },
     "execution_count": 18,
     "metadata": {},
     "output_type": "execute_result"
    }
   ],
   "source": [
    "col_test = dft.columns\n",
    "col_train = df.columns\n",
    "\n",
    "s = set(col_train)\n",
    "missing = [x for x in col_test if x not in s]\n",
    "missing"
   ]
  },
  {
   "cell_type": "code",
   "execution_count": 19,
   "metadata": {
    "colab": {
     "base_uri": "https://localhost:8080/"
    },
    "executionInfo": {
     "elapsed": 3,
     "status": "ok",
     "timestamp": 1664030033016,
     "user": {
      "displayName": "Jiwon Moon",
      "userId": "18188594087359353260"
     },
     "user_tz": 420
    },
    "id": "W-_k7BxkeZj_",
    "outputId": "822cc1f9-bcf5-41c3-eab1-a65262b9cd73"
   },
   "outputs": [
    {
     "data": {
      "text/plain": [
       "(2999, 145)"
      ]
     },
     "execution_count": 19,
     "metadata": {},
     "output_type": "execute_result"
    }
   ],
   "source": [
    "df[['MAKE_Ferrari','MAKE_Jaguar',\n",
    " 'MAKE_Lexus',\n",
    " 'POLICYTYPE_Sport-Liability',\n",
    " 'NUMBEROFCARS_more_than_8']] = 0\n",
    "\n",
    "df.shape"
   ]
  },
  {
   "cell_type": "markdown",
   "metadata": {
    "id": "aRWQ5puopG5g"
   },
   "source": [
    "# Classification Model"
   ]
  },
  {
   "cell_type": "markdown",
   "metadata": {
    "id": "qY1pfCJupL8q"
   },
   "source": [
    "## Decision Tree"
   ]
  },
  {
   "cell_type": "code",
   "execution_count": 20,
   "metadata": {
    "executionInfo": {
     "elapsed": 195,
     "status": "ok",
     "timestamp": 1664030033209,
     "user": {
      "displayName": "Jiwon Moon",
      "userId": "18188594087359353260"
     },
     "user_tz": 420
    },
    "id": "k06G6Q9eoIcE"
   },
   "outputs": [],
   "source": [
    "X_train = df.drop(['FRAUDFOUND'], axis=1)\n",
    "y_train = df['FRAUDFOUND']\n",
    "\n",
    "X_test = dft.drop(['FRAUDFOUND'], axis=1)\n",
    "y_test = dft['FRAUDFOUND']"
   ]
  },
  {
   "cell_type": "code",
   "execution_count": 21,
   "metadata": {
    "colab": {
     "base_uri": "https://localhost:8080/"
    },
    "executionInfo": {
     "elapsed": 5,
     "status": "ok",
     "timestamp": 1664030033209,
     "user": {
      "displayName": "Jiwon Moon",
      "userId": "18188594087359353260"
     },
     "user_tz": 420
    },
    "id": "zLILrRdOpfjw",
    "outputId": "ffb23b2b-85fa-463b-de93-e895746fdc2e"
   },
   "outputs": [
    {
     "name": "stdout",
     "output_type": "stream",
     "text": [
      "0.6395726892707849\n",
      "Classification Report :\n",
      "              precision    recall  f1-score   support\n",
      "\n",
      "           0       0.96      0.65      0.78     12420\n",
      "           1       0.04      0.41      0.08       498\n",
      "\n",
      "    accuracy                           0.64     12918\n",
      "   macro avg       0.50      0.53      0.43     12918\n",
      "weighted avg       0.93      0.64      0.75     12918\n",
      "\n"
     ]
    }
   ],
   "source": [
    "dt = DecisionTreeClassifier()\n",
    "\n",
    "dt.fit(X_train, y_train)\n",
    "preds = dt.predict(X_test)\n",
    "\n",
    "score = dt.score(X_test, y_test)\n",
    "print(score)\n",
    "print('Classification Report :')\n",
    "print(classification_report(y_test, preds))"
   ]
  },
  {
   "cell_type": "markdown",
   "metadata": {
    "id": "-BrktwGQqQoZ"
   },
   "source": [
    "## Random Forest"
   ]
  },
  {
   "cell_type": "code",
   "execution_count": 22,
   "metadata": {
    "colab": {
     "base_uri": "https://localhost:8080/"
    },
    "executionInfo": {
     "elapsed": 1024,
     "status": "ok",
     "timestamp": 1664030034231,
     "user": {
      "displayName": "Jiwon Moon",
      "userId": "18188594087359353260"
     },
     "user_tz": 420
    },
    "id": "9ADyvzlkqWPX",
    "outputId": "15e0c63a-0d36-4cd4-c049-43c60264b8e9"
   },
   "outputs": [
    {
     "name": "stdout",
     "output_type": "stream",
     "text": [
      "0.9544047066109305\n",
      "Classification Report :\n",
      "              precision    recall  f1-score   support\n",
      "\n",
      "           0       0.96      0.99      0.98     12420\n",
      "           1       0.10      0.02      0.04       498\n",
      "\n",
      "    accuracy                           0.95     12918\n",
      "   macro avg       0.53      0.51      0.51     12918\n",
      "weighted avg       0.93      0.95      0.94     12918\n",
      "\n"
     ]
    }
   ],
   "source": [
    "rf = RandomForestClassifier()\n",
    "\n",
    "rf.fit(X_train, y_train)\n",
    "preds = rf.predict(X_test)\n",
    "\n",
    "score = rf.score(X_test, y_test)\n",
    "print(score)\n",
    "print('Classification Report :')\n",
    "print(classification_report(y_test, preds))"
   ]
  },
  {
   "cell_type": "markdown",
   "metadata": {
    "id": "d8zGox1Yq44_"
   },
   "source": [
    "## Hyperparameter Tuning (With 5 Folds Cross Validation)"
   ]
  },
  {
   "cell_type": "markdown",
   "metadata": {
    "id": "-IP9ODlbPIXi"
   },
   "source": [
    "### Grid Search"
   ]
  },
  {
   "cell_type": "code",
   "execution_count": 23,
   "metadata": {
    "colab": {
     "base_uri": "https://localhost:8080/"
    },
    "executionInfo": {
     "elapsed": 32602,
     "status": "ok",
     "timestamp": 1664030514891,
     "user": {
      "displayName": "Jiwon Moon",
      "userId": "18188594087359353260"
     },
     "user_tz": 420
    },
    "id": "EOvNNsHgrBJo",
    "outputId": "94fc1eea-b3de-4fe9-a634-8b8fd5438bd5"
   },
   "outputs": [
    {
     "name": "stdout",
     "output_type": "stream",
     "text": [
      "GridSearchCV-DecisionTree\n",
      "{'criterion': 'gini', 'max_depth': 3, 'min_samples_leaf': 10, 'random_state': 0}\n",
      "accuracy Score for Decision Tree:0.776513\n",
      "--- 220.96882319450378 seconds ---\n"
     ]
    }
   ],
   "source": [
    "# DecisionTreeClassifier\n",
    "import time\n",
    "start_time = time.time()\n",
    "\n",
    "parameters = {'random_state' : range(0,100,2), 'min_samples_leaf' : range(10,100,10),\n",
    "              'max_depth': range(1,10,2),'criterion':['gini','entropy']}\n",
    "\n",
    "print(\"GridSearchCV-DecisionTree\")\n",
    "dt_grid = GridSearchCV(dt,parameters,cv=5)\n",
    "dt_grid.fit(X_train, y_train)\n",
    "grid_parm1=dt_grid.best_params_\n",
    "print(grid_parm1)\n",
    "print(\"accuracy Score for Decision Tree:{0:6f}\".\n",
    "      format(dt_grid.score(X_test,y_test)))\n",
    "\n",
    "print(\"--- %s seconds ---\" % (time.time() - start_time))"
   ]
  },
  {
   "cell_type": "code",
   "execution_count": 24,
   "metadata": {
    "colab": {
     "base_uri": "https://localhost:8080/"
    },
    "id": "l-BlrMrS3npA",
    "outputId": "c838f6cf-16aa-4863-e4e7-11eb48efb461"
   },
   "outputs": [
    {
     "name": "stdout",
     "output_type": "stream",
     "text": [
      "GridSearchCV-RandomForest\n",
      "{'criterion': 'gini', 'max_depth': 9, 'min_samples_leaf': 10, 'random_state': 78}\n",
      "accuracy Score for Decision Tree:0.961449\n",
      "--- 2647.6731810569763 seconds ---\n"
     ]
    }
   ],
   "source": [
    "# RandomForest\n",
    "import time\n",
    "start_time = time.time()\n",
    "\n",
    "parameters = {'random_state' : range(0,100,2), 'min_samples_leaf' : range(10,100,10),\n",
    "              'max_depth': range(1,10,2),'criterion':['gini','entropy']}\n",
    "\n",
    "print(\"GridSearchCV-RandomForest\")\n",
    "rf_grid = GridSearchCV(rf,parameters,cv=5)\n",
    "rf_grid.fit(X_train, y_train)\n",
    "grid_parm1=rf_grid.best_params_\n",
    "print(grid_parm1)\n",
    "print(\"accuracy Score for Decision Tree:{0:6f}\".\n",
    "      format(rf_grid.score(X_test,y_test)))\n",
    "\n",
    "print(\"--- %s seconds ---\" % (time.time() - start_time))"
   ]
  },
  {
   "cell_type": "markdown",
   "metadata": {
    "id": "E9lmBevvPsK_"
   },
   "source": [
    "### Random Search"
   ]
  },
  {
   "cell_type": "code",
   "execution_count": 25,
   "metadata": {
    "id": "wgs9oph_P_qk"
   },
   "outputs": [
    {
     "name": "stdout",
     "output_type": "stream",
     "text": [
      "RandomizedSearchCV-DecisionTreeClassifier\n",
      "{'random_state': 24, 'min_samples_leaf': 10, 'max_depth': 9, 'criterion': 'gini'}\n",
      "accuracy Score for Decision Tree:0.961449\n",
      "--- 14.689586877822876 seconds ---\n"
     ]
    }
   ],
   "source": [
    "# DecisionTreeClassifier\n",
    "import time\n",
    "start_time = time.time()\n",
    "\n",
    "print(\"RandomizedSearchCV-DecisionTreeClassifier\")\n",
    "rand_parameters={'random_state' : range(0,100,2), 'min_samples_leaf' : range(10,100,10),\n",
    "              'max_depth': range(1,10,2),'criterion':['gini','entropy']}\n",
    "\n",
    "rf_random = RandomizedSearchCV(rf,rand_parameters,n_iter=25,cv=5)\n",
    "\n",
    "rf_random.fit(X_train, y_train)\n",
    "grid_parm=rf_random.best_params_\n",
    "print(grid_parm)\n",
    "print(\"accuracy Score for Decision Tree:{0:6f}\".\n",
    "      format(rf_random.score(X_test,y_test)))\n",
    "\n",
    "print(\"--- %s seconds ---\" % (time.time() - start_time))"
   ]
  },
  {
   "cell_type": "code",
   "execution_count": 26,
   "metadata": {
    "id": "8sSbVzsWPw2g"
   },
   "outputs": [
    {
     "name": "stdout",
     "output_type": "stream",
     "text": [
      "RandomizedSearchCV-Random Forest\n",
      "{'random_state': 30, 'min_samples_leaf': 10, 'max_depth': 9, 'criterion': 'entropy'}\n",
      "accuracy Score for Decision Tree:0.961449\n",
      "--- 15.441210985183716 seconds ---\n"
     ]
    }
   ],
   "source": [
    "# Random Forest\n",
    "import time\n",
    "start_time = time.time()\n",
    "\n",
    "print(\"RandomizedSearchCV-Random Forest\")\n",
    "rand_parameters={'random_state' : range(0,100,2), 'min_samples_leaf' : range(10,100,10),\n",
    "              'max_depth': range(1,10,2),'criterion':['gini','entropy']}\n",
    "\n",
    "rf_random = RandomizedSearchCV(rf,rand_parameters,n_iter=25,cv=5)\n",
    "\n",
    "rf_random.fit(X_train, y_train)\n",
    "grid_parm=rf_random.best_params_\n",
    "print(grid_parm)\n",
    "print(\"accuracy Score for Decision Tree:{0:6f}\".\n",
    "      format(rf_random.score(X_test,y_test)))\n",
    "\n",
    "print(\"--- %s seconds ---\" % (time.time() - start_time))"
   ]
  },
  {
   "cell_type": "markdown",
   "metadata": {
    "id": "GFYfQ4HsCKOg"
   },
   "source": [
    "## Tuned Classifier"
   ]
  },
  {
   "cell_type": "code",
   "execution_count": 27,
   "metadata": {
    "id": "Lp-goQZzCMxY"
   },
   "outputs": [
    {
     "name": "stdout",
     "output_type": "stream",
     "text": [
      "0.7765133921659699\n",
      "Classification Report :\n",
      "              precision    recall  f1-score   support\n",
      "\n",
      "           0       0.96      0.80      0.87     12420\n",
      "           1       0.05      0.28      0.09       498\n",
      "\n",
      "    accuracy                           0.78     12918\n",
      "   macro avg       0.51      0.54      0.48     12918\n",
      "weighted avg       0.93      0.78      0.84     12918\n",
      "\n"
     ]
    }
   ],
   "source": [
    "# DecisionTreeClassifier - grid tuned\n",
    "# 'criterion': 'gini', 'max_depth': 3, 'min_samples_leaf': 10, 'random_state': 0\n",
    "dt_gtuned = DecisionTreeClassifier(random_state = 0, \n",
    "                                   min_samples_leaf = 10,\n",
    "                                   max_depth = 3,\n",
    "                                   criterion = 'gini')\n",
    "\n",
    "dt_gtuned.fit(X_train, y_train)\n",
    "preds = dt_gtuned.predict(X_test)\n",
    "\n",
    "score = dt_gtuned.score(X_test, y_test)\n",
    "print(score)\n",
    "print('Classification Report :')\n",
    "print(classification_report(y_test, preds))"
   ]
  },
  {
   "cell_type": "code",
   "execution_count": 28,
   "metadata": {
    "id": "xHaQ3dZ9SaJH"
   },
   "outputs": [
    {
     "name": "stdout",
     "output_type": "stream",
     "text": [
      "0.8612014243690974\n",
      "Classification Report :\n",
      "              precision    recall  f1-score   support\n",
      "\n",
      "           0       0.96      0.89      0.92     12420\n",
      "           1       0.06      0.18      0.09       498\n",
      "\n",
      "    accuracy                           0.86     12918\n",
      "   macro avg       0.51      0.53      0.51     12918\n",
      "weighted avg       0.93      0.86      0.89     12918\n",
      "\n"
     ]
    }
   ],
   "source": [
    "# DecisionTreeClassifier - random search tuned\n",
    "# 'random_state': 92, 'min_samples_leaf': 40, 'max_depth': 5, 'criterion': 'entropy'\n",
    "dt_rtuned = DecisionTreeClassifier(random_state = 92, \n",
    "                                   min_samples_leaf = 40,\n",
    "                                   max_depth = 5,\n",
    "                                   criterion = 'entropy')\n",
    "\n",
    "dt_rtuned.fit(X_train, y_train)\n",
    "preds = dt_rtuned.predict(X_test)\n",
    "\n",
    "score = dt_rtuned.score(X_test, y_test)\n",
    "print(score)\n",
    "print('Classification Report :')\n",
    "print(classification_report(y_test, preds))"
   ]
  },
  {
   "cell_type": "code",
   "execution_count": 29,
   "metadata": {
    "id": "_n8pq_O6Cae5"
   },
   "outputs": [
    {
     "name": "stdout",
     "output_type": "stream",
     "text": [
      "0.9614491407338597\n",
      "Classification Report :\n",
      "              precision    recall  f1-score   support\n",
      "\n",
      "           0       0.96      1.00      0.98     12420\n",
      "           1       0.00      0.00      0.00       498\n",
      "\n",
      "    accuracy                           0.96     12918\n",
      "   macro avg       0.48      0.50      0.49     12918\n",
      "weighted avg       0.92      0.96      0.94     12918\n",
      "\n"
     ]
    }
   ],
   "source": [
    "# Random Forest - grid tuned\n",
    "# 'criterion': 'gini', 'max_depth': 9, 'min_samples_leaf': 10, 'random_state': 78\n",
    "rf_gtuned = RandomForestClassifier(random_state = 78, \n",
    "                                   min_samples_leaf = 10,\n",
    "                                   max_depth = 9,\n",
    "                                   criterion = 'gini')\n",
    "\n",
    "rf_gtuned.fit(X_train, y_train)\n",
    "preds = rf_gtuned.predict(X_test)\n",
    "\n",
    "score = rf_gtuned.score(X_test, y_test)\n",
    "print(score)\n",
    "print('Classification Report :')\n",
    "print(classification_report(y_test, preds))"
   ]
  },
  {
   "cell_type": "code",
   "execution_count": 30,
   "metadata": {
    "id": "mmoMkhhsSVT9"
   },
   "outputs": [
    {
     "name": "stdout",
     "output_type": "stream",
     "text": [
      "0.7857253444805697\n",
      "Classification Report :\n",
      "              precision    recall  f1-score   support\n",
      "\n",
      "           0       0.96      0.81      0.88     12420\n",
      "           1       0.03      0.15      0.05       498\n",
      "\n",
      "    accuracy                           0.79     12918\n",
      "   macro avg       0.50      0.48      0.47     12918\n",
      "weighted avg       0.92      0.79      0.85     12918\n",
      "\n"
     ]
    }
   ],
   "source": [
    "# Random Forest - random search tuned\n",
    "# 'random_state': 22, 'min_samples_leaf': 10, 'max_depth': 9, 'criterion': 'gini'\n",
    "rf_rtuned = DecisionTreeClassifier(random_state = 22, \n",
    "                                   min_samples_leaf = 10,\n",
    "                                   max_depth = 9,\n",
    "                                   criterion = 'gini')\n",
    "\n",
    "rf_rtuned.fit(X_train, y_train)\n",
    "preds = rf_rtuned.predict(X_test)\n",
    "\n",
    "score = rf_rtuned.score(X_test, y_test)\n",
    "print(score)\n",
    "print('Classification Report :')\n",
    "print(classification_report(y_test, preds))"
   ]
  }
 ],
 "metadata": {
  "colab": {
   "authorship_tag": "ABX9TyO+TVpuktcoGVwcB3BtVNop",
   "collapsed_sections": [],
   "provenance": []
  },
  "kernelspec": {
   "display_name": "Python 3 (ipykernel)",
   "language": "python",
   "name": "python3"
  },
  "language_info": {
   "codemirror_mode": {
    "name": "ipython",
    "version": 3
   },
   "file_extension": ".py",
   "mimetype": "text/x-python",
   "name": "python",
   "nbconvert_exporter": "python",
   "pygments_lexer": "ipython3",
   "version": "3.9.12"
  }
 },
 "nbformat": 4,
 "nbformat_minor": 1
}
