{
 "cells": [
  {
   "cell_type": "markdown",
   "metadata": {},
   "source": [
    "Phython code for comparing performance of 4 clustering applied to 3 dataset with different properties"
   ]
  },
  {
   "cell_type": "code",
   "execution_count": 1,
   "metadata": {},
   "outputs": [],
   "source": [
    "import os\n",
    "import numpy as np\n",
    "import pandas as pd\n",
    "import matplotlib.pyplot as plt\n",
    "from matplotlib.pyplot import figure\n",
    "\n",
    "import seaborn as sns\n",
    "from sklearn.cluster import KMeans, OPTICS\n",
    "from sklearn.preprocessing import StandardScaler\n",
    "from sklearn.neighbors import NearestNeighbors\n",
    "\n",
    "from sklearn.metrics import silhouette_score, calinski_harabasz_score, davies_bouldin_score, silhouette_samples\n",
    "from scipy.spatial.distance import pdist, squareform\n",
    "from mpl_toolkits.mplot3d import Axes3D\n",
    "from yellowbrick.cluster import SilhouetteVisualizer\n",
    "import umap\n",
    "import matplotlib.cm as cm\n",
    "from sklearn.decomposition import PCA\n",
    "from sklearn.cluster import DBSCAN\n",
    "import torch\n",
    "\n",
    "from random import sample\n",
    "\n",
    "import statsmodels.api as sm\n",
    "from sklearn.datasets import make_blobs\n",
    "from sklearn.mixture import GaussianMixture\n",
    "from sklearn.cluster import AgglomerativeClustering\n",
    "\n",
    "import time"
   ]
  },
  {
   "cell_type": "code",
   "execution_count": 2,
   "metadata": {},
   "outputs": [
    {
     "name": "stdout",
     "output_type": "stream",
     "text": [
      "(8950, 18)\n",
      "            BALANCE  BALANCE_FREQUENCY     PURCHASES  ONEOFF_PURCHASES  \\\n",
      "count   8950.000000        8950.000000   8950.000000       8950.000000   \n",
      "mean    1564.474828           0.877271   1003.204834        592.437371   \n",
      "std     2081.531879           0.236904   2136.634782       1659.887917   \n",
      "min        0.000000           0.000000      0.000000          0.000000   \n",
      "25%      128.281915           0.888889     39.635000          0.000000   \n",
      "50%      873.385231           1.000000    361.280000         38.000000   \n",
      "75%     2054.140036           1.000000   1110.130000        577.405000   \n",
      "max    19043.138560           1.000000  49039.570000      40761.250000   \n",
      "\n",
      "       INSTALLMENTS_PURCHASES  CASH_ADVANCE  PURCHASES_FREQUENCY  \\\n",
      "count             8950.000000   8950.000000          8950.000000   \n",
      "mean               411.067645    978.871112             0.490351   \n",
      "std                904.338115   2097.163877             0.401371   \n",
      "min                  0.000000      0.000000             0.000000   \n",
      "25%                  0.000000      0.000000             0.083333   \n",
      "50%                 89.000000      0.000000             0.500000   \n",
      "75%                468.637500   1113.821139             0.916667   \n",
      "max              22500.000000  47137.211760             1.000000   \n",
      "\n",
      "       ONEOFF_PURCHASES_FREQUENCY  PURCHASES_INSTALLMENTS_FREQUENCY  \\\n",
      "count                 8950.000000                       8950.000000   \n",
      "mean                     0.202458                          0.364437   \n",
      "std                      0.298336                          0.397448   \n",
      "min                      0.000000                          0.000000   \n",
      "25%                      0.000000                          0.000000   \n",
      "50%                      0.083333                          0.166667   \n",
      "75%                      0.300000                          0.750000   \n",
      "max                      1.000000                          1.000000   \n",
      "\n",
      "       CASH_ADVANCE_FREQUENCY  CASH_ADVANCE_TRX  PURCHASES_TRX  CREDIT_LIMIT  \\\n",
      "count             8950.000000       8950.000000    8950.000000   8949.000000   \n",
      "mean                 0.135144          3.248827      14.709832   4494.449450   \n",
      "std                  0.200121          6.824647      24.857649   3638.815725   \n",
      "min                  0.000000          0.000000       0.000000     50.000000   \n",
      "25%                  0.000000          0.000000       1.000000   1600.000000   \n",
      "50%                  0.000000          0.000000       7.000000   3000.000000   \n",
      "75%                  0.222222          4.000000      17.000000   6500.000000   \n",
      "max                  1.500000        123.000000     358.000000  30000.000000   \n",
      "\n",
      "           PAYMENTS  MINIMUM_PAYMENTS  PRC_FULL_PAYMENT       TENURE  \n",
      "count   8950.000000       8637.000000       8950.000000  8950.000000  \n",
      "mean    1733.143852        864.206542          0.153715    11.517318  \n",
      "std     2895.063757       2372.446607          0.292499     1.338331  \n",
      "min        0.000000          0.019163          0.000000     6.000000  \n",
      "25%      383.276166        169.123707          0.000000    12.000000  \n",
      "50%      856.901546        312.343947          0.000000    12.000000  \n",
      "75%     1901.134317        825.485459          0.142857    12.000000  \n",
      "max    50721.483360      76406.207520          1.000000    12.000000  \n"
     ]
    }
   ],
   "source": [
    "# read input files \n",
    "device = torch.device(\"mps\")\n",
    "url = 'CC GENERAL.csv'\n",
    "df = pd.read_csv(os.getcwd()+'/Clustering/'+url)\n",
    "\n",
    "# find structure of data set\n",
    "print(df.shape)\n",
    "print(df.describe())"
   ]
  },
  {
   "cell_type": "code",
   "execution_count": 3,
   "metadata": {},
   "outputs": [
    {
     "data": {
      "text/plain": [
       "CUST_ID                             0.000000\n",
       "BALANCE                             0.000000\n",
       "BALANCE_FREQUENCY                   0.000000\n",
       "PURCHASES                           0.000000\n",
       "ONEOFF_PURCHASES                    0.000000\n",
       "INSTALLMENTS_PURCHASES              0.000000\n",
       "CASH_ADVANCE                        0.000000\n",
       "PURCHASES_FREQUENCY                 0.000000\n",
       "ONEOFF_PURCHASES_FREQUENCY          0.000000\n",
       "PURCHASES_INSTALLMENTS_FREQUENCY    0.000000\n",
       "CASH_ADVANCE_FREQUENCY              0.000000\n",
       "CASH_ADVANCE_TRX                    0.000000\n",
       "PURCHASES_TRX                       0.000000\n",
       "CREDIT_LIMIT                        0.011173\n",
       "PAYMENTS                            0.000000\n",
       "MINIMUM_PAYMENTS                    3.497207\n",
       "PRC_FULL_PAYMENT                    0.000000\n",
       "TENURE                              0.000000\n",
       "dtype: float64"
      ]
     },
     "execution_count": 3,
     "metadata": {},
     "output_type": "execute_result"
    }
   ],
   "source": [
    "# check the empty values : if (values is not 0) then empty\n",
    "df.isna().mean()*100"
   ]
  },
  {
   "cell_type": "code",
   "execution_count": 4,
   "metadata": {},
   "outputs": [],
   "source": [
    "# handling empty values\n",
    "\n",
    "df.loc[(df['MINIMUM_PAYMENTS'].isnull()==True),'MINIMUM_PAYMENTS']=df['MINIMUM_PAYMENTS'].mean()\n",
    "df.loc[(df['CREDIT_LIMIT'].isnull()==True),'CREDIT_LIMIT']=df['CREDIT_LIMIT'].mean()"
   ]
  },
  {
   "cell_type": "code",
   "execution_count": 5,
   "metadata": {},
   "outputs": [
    {
     "data": {
      "text/plain": [
       "CUST_ID                             0.0\n",
       "BALANCE                             0.0\n",
       "BALANCE_FREQUENCY                   0.0\n",
       "PURCHASES                           0.0\n",
       "ONEOFF_PURCHASES                    0.0\n",
       "INSTALLMENTS_PURCHASES              0.0\n",
       "CASH_ADVANCE                        0.0\n",
       "PURCHASES_FREQUENCY                 0.0\n",
       "ONEOFF_PURCHASES_FREQUENCY          0.0\n",
       "PURCHASES_INSTALLMENTS_FREQUENCY    0.0\n",
       "CASH_ADVANCE_FREQUENCY              0.0\n",
       "CASH_ADVANCE_TRX                    0.0\n",
       "PURCHASES_TRX                       0.0\n",
       "CREDIT_LIMIT                        0.0\n",
       "PAYMENTS                            0.0\n",
       "MINIMUM_PAYMENTS                    0.0\n",
       "PRC_FULL_PAYMENT                    0.0\n",
       "TENURE                              0.0\n",
       "dtype: float64"
      ]
     },
     "execution_count": 5,
     "metadata": {},
     "output_type": "execute_result"
    }
   ],
   "source": [
    "df.isna().mean()*100"
   ]
  },
  {
   "cell_type": "code",
   "execution_count": 6,
   "metadata": {},
   "outputs": [],
   "source": [
    "# dropping header that are not necessary for clustering\n",
    "if 'CUST_ID' in df.columns :\n",
    "    df = df.drop(columns=['CUST_ID'])"
   ]
  },
  {
   "cell_type": "code",
   "execution_count": 7,
   "metadata": {},
   "outputs": [
    {
     "data": {
      "text/plain": [
       "(8950, 17)"
      ]
     },
     "execution_count": 7,
     "metadata": {},
     "output_type": "execute_result"
    }
   ],
   "source": [
    "df.shape"
   ]
  },
  {
   "cell_type": "code",
   "execution_count": 8,
   "metadata": {},
   "outputs": [
    {
     "data": {
      "text/html": [
       "<div>\n",
       "<style scoped>\n",
       "    .dataframe tbody tr th:only-of-type {\n",
       "        vertical-align: middle;\n",
       "    }\n",
       "\n",
       "    .dataframe tbody tr th {\n",
       "        vertical-align: top;\n",
       "    }\n",
       "\n",
       "    .dataframe thead th {\n",
       "        text-align: right;\n",
       "    }\n",
       "</style>\n",
       "<table border=\"1\" class=\"dataframe\">\n",
       "  <thead>\n",
       "    <tr style=\"text-align: right;\">\n",
       "      <th></th>\n",
       "      <th>BALANCE</th>\n",
       "      <th>BALANCE_FREQUENCY</th>\n",
       "      <th>PURCHASES</th>\n",
       "      <th>ONEOFF_PURCHASES</th>\n",
       "      <th>INSTALLMENTS_PURCHASES</th>\n",
       "      <th>CASH_ADVANCE</th>\n",
       "      <th>PURCHASES_FREQUENCY</th>\n",
       "      <th>ONEOFF_PURCHASES_FREQUENCY</th>\n",
       "      <th>PURCHASES_INSTALLMENTS_FREQUENCY</th>\n",
       "      <th>CASH_ADVANCE_FREQUENCY</th>\n",
       "      <th>CASH_ADVANCE_TRX</th>\n",
       "      <th>PURCHASES_TRX</th>\n",
       "      <th>CREDIT_LIMIT</th>\n",
       "      <th>PAYMENTS</th>\n",
       "      <th>MINIMUM_PAYMENTS</th>\n",
       "      <th>PRC_FULL_PAYMENT</th>\n",
       "      <th>TENURE</th>\n",
       "    </tr>\n",
       "  </thead>\n",
       "  <tbody>\n",
       "    <tr>\n",
       "      <th>0</th>\n",
       "      <td>40.900749</td>\n",
       "      <td>0.818182</td>\n",
       "      <td>95.40</td>\n",
       "      <td>0.00</td>\n",
       "      <td>95.4</td>\n",
       "      <td>0.000000</td>\n",
       "      <td>0.166667</td>\n",
       "      <td>0.000000</td>\n",
       "      <td>0.083333</td>\n",
       "      <td>0.000000</td>\n",
       "      <td>0</td>\n",
       "      <td>2</td>\n",
       "      <td>1000.0</td>\n",
       "      <td>201.802084</td>\n",
       "      <td>139.509787</td>\n",
       "      <td>0.000000</td>\n",
       "      <td>12</td>\n",
       "    </tr>\n",
       "    <tr>\n",
       "      <th>1</th>\n",
       "      <td>3202.467416</td>\n",
       "      <td>0.909091</td>\n",
       "      <td>0.00</td>\n",
       "      <td>0.00</td>\n",
       "      <td>0.0</td>\n",
       "      <td>6442.945483</td>\n",
       "      <td>0.000000</td>\n",
       "      <td>0.000000</td>\n",
       "      <td>0.000000</td>\n",
       "      <td>0.250000</td>\n",
       "      <td>4</td>\n",
       "      <td>0</td>\n",
       "      <td>7000.0</td>\n",
       "      <td>4103.032597</td>\n",
       "      <td>1072.340217</td>\n",
       "      <td>0.222222</td>\n",
       "      <td>12</td>\n",
       "    </tr>\n",
       "    <tr>\n",
       "      <th>2</th>\n",
       "      <td>2495.148862</td>\n",
       "      <td>1.000000</td>\n",
       "      <td>773.17</td>\n",
       "      <td>773.17</td>\n",
       "      <td>0.0</td>\n",
       "      <td>0.000000</td>\n",
       "      <td>1.000000</td>\n",
       "      <td>1.000000</td>\n",
       "      <td>0.000000</td>\n",
       "      <td>0.000000</td>\n",
       "      <td>0</td>\n",
       "      <td>12</td>\n",
       "      <td>7500.0</td>\n",
       "      <td>622.066742</td>\n",
       "      <td>627.284787</td>\n",
       "      <td>0.000000</td>\n",
       "      <td>12</td>\n",
       "    </tr>\n",
       "    <tr>\n",
       "      <th>3</th>\n",
       "      <td>1666.670542</td>\n",
       "      <td>0.636364</td>\n",
       "      <td>1499.00</td>\n",
       "      <td>1499.00</td>\n",
       "      <td>0.0</td>\n",
       "      <td>205.788017</td>\n",
       "      <td>0.083333</td>\n",
       "      <td>0.083333</td>\n",
       "      <td>0.000000</td>\n",
       "      <td>0.083333</td>\n",
       "      <td>1</td>\n",
       "      <td>1</td>\n",
       "      <td>7500.0</td>\n",
       "      <td>0.000000</td>\n",
       "      <td>864.206542</td>\n",
       "      <td>0.000000</td>\n",
       "      <td>12</td>\n",
       "    </tr>\n",
       "    <tr>\n",
       "      <th>4</th>\n",
       "      <td>817.714335</td>\n",
       "      <td>1.000000</td>\n",
       "      <td>16.00</td>\n",
       "      <td>16.00</td>\n",
       "      <td>0.0</td>\n",
       "      <td>0.000000</td>\n",
       "      <td>0.083333</td>\n",
       "      <td>0.083333</td>\n",
       "      <td>0.000000</td>\n",
       "      <td>0.000000</td>\n",
       "      <td>0</td>\n",
       "      <td>1</td>\n",
       "      <td>1200.0</td>\n",
       "      <td>678.334763</td>\n",
       "      <td>244.791237</td>\n",
       "      <td>0.000000</td>\n",
       "      <td>12</td>\n",
       "    </tr>\n",
       "  </tbody>\n",
       "</table>\n",
       "</div>"
      ],
      "text/plain": [
       "       BALANCE  BALANCE_FREQUENCY  PURCHASES  ONEOFF_PURCHASES  \\\n",
       "0    40.900749           0.818182      95.40              0.00   \n",
       "1  3202.467416           0.909091       0.00              0.00   \n",
       "2  2495.148862           1.000000     773.17            773.17   \n",
       "3  1666.670542           0.636364    1499.00           1499.00   \n",
       "4   817.714335           1.000000      16.00             16.00   \n",
       "\n",
       "   INSTALLMENTS_PURCHASES  CASH_ADVANCE  PURCHASES_FREQUENCY  \\\n",
       "0                    95.4      0.000000             0.166667   \n",
       "1                     0.0   6442.945483             0.000000   \n",
       "2                     0.0      0.000000             1.000000   \n",
       "3                     0.0    205.788017             0.083333   \n",
       "4                     0.0      0.000000             0.083333   \n",
       "\n",
       "   ONEOFF_PURCHASES_FREQUENCY  PURCHASES_INSTALLMENTS_FREQUENCY  \\\n",
       "0                    0.000000                          0.083333   \n",
       "1                    0.000000                          0.000000   \n",
       "2                    1.000000                          0.000000   \n",
       "3                    0.083333                          0.000000   \n",
       "4                    0.083333                          0.000000   \n",
       "\n",
       "   CASH_ADVANCE_FREQUENCY  CASH_ADVANCE_TRX  PURCHASES_TRX  CREDIT_LIMIT  \\\n",
       "0                0.000000                 0              2        1000.0   \n",
       "1                0.250000                 4              0        7000.0   \n",
       "2                0.000000                 0             12        7500.0   \n",
       "3                0.083333                 1              1        7500.0   \n",
       "4                0.000000                 0              1        1200.0   \n",
       "\n",
       "      PAYMENTS  MINIMUM_PAYMENTS  PRC_FULL_PAYMENT  TENURE  \n",
       "0   201.802084        139.509787          0.000000      12  \n",
       "1  4103.032597       1072.340217          0.222222      12  \n",
       "2   622.066742        627.284787          0.000000      12  \n",
       "3     0.000000        864.206542          0.000000      12  \n",
       "4   678.334763        244.791237          0.000000      12  "
      ]
     },
     "execution_count": 8,
     "metadata": {},
     "output_type": "execute_result"
    }
   ],
   "source": [
    "df.head()"
   ]
  },
  {
   "cell_type": "code",
   "execution_count": 9,
   "metadata": {},
   "outputs": [],
   "source": [
    "# functions for exploratory data analysis\n",
    "\n",
    "# function for skewness with data, method(normal|log|sqrt), draw plot(True|False)\n",
    "#    Symmetrical (-0.5 < skewness < 0.5), \n",
    "#    moderately skewed (-1 to -0.5, 0.5 to 1), \n",
    "#    otherwise highly skewed.\n",
    "\n",
    "def skewness(df, method = 'normal', plot='Fale') :\n",
    "    skew_r = {}\n",
    "    if (method == 'normal') :\n",
    "        for feature in df:\n",
    "            tempData = df.sort_values(by=feature)[feature]\n",
    "            skew_r[feature] = tempData.skew()\n",
    "           \n",
    "        if plot=='True':\n",
    "            sns.displot(tempData)\n",
    "\n",
    "    if (method == 'log') : \n",
    "        for feature in df:\n",
    "            tempData = np.log(df.sort_values(by=feature)[feature])\n",
    "            skew_r[feature] = tempData.skew()\n",
    "       \n",
    "        if plot=='True':\n",
    "            sns.displot(tempData)\n",
    "\n",
    "    if (method == 'sqrt') : \n",
    "        for feature in df:\n",
    "            tempData = np.sqrt(df.sort_values(by=feature)[feature])\n",
    "            skew_r[feature] = tempData.skew()\n",
    "        \n",
    "        if plot=='True':\n",
    "            sns.displot(tempData)\n",
    "           \n",
    "    return skew_r\n",
    "\n",
    "# check whether the dataset is suitable for clustering. \n",
    "# function for calculating hopkins static used to check whether the dataset is randomly distributed\n",
    "# A value close to 0.5 indicates that the data has a random distribution, and therefore is not suitable for clustering. \n",
    "# On the other hand, if the value is greater than 0.7, the dataset is likely suitable for clustering.\n",
    "\n",
    "def hopkins(X):\n",
    "    d = X.shape[1] # columns\n",
    "    n = X.shape[0] # rows\n",
    "\n",
    "    m = int(0.1 * n) # heuristic from article [1]\n",
    "\n",
    "    nbrs = NearestNeighbors(n_neighbors=1, algorithm='auto').fit(X)\n",
    "    rand_X = sample(range(0, n, 1), m)\n",
    "\n",
    "    ujd = []\n",
    "    wjd = []\n",
    "    for j in range(0, m):\n",
    "        u_dist, _ = nbrs.kneighbors(np.random.normal(size=(1, d)).reshape(1, -1), 2, return_distance=True)\n",
    "        ujd.append(u_dist[0][1])\n",
    "        w_dist, _ = nbrs.kneighbors(X[rand_X[j]].reshape(1, -1), 2, return_distance=True)\n",
    "        wjd.append(w_dist[0][1])\n",
    "\n",
    "    H = sum(ujd) / (sum(ujd) + sum(wjd))\n",
    "    return  H\n",
    "\n",
    "\n",
    "# functions for outlier remove with dataframe, method(IQR|z_score)\n",
    "# remove outlier based on quartiles : IQR(Interquantile Range)\n",
    "# IQR = Q3(상위 25%)-Q1(하위 25%)\n",
    "# 이상치 = (Q1-1.5*IQR) 보다 작거나 Q3+1.5∗IQR보다 큰 경우\n",
    "# 1.5 대신 다른 수를 곱할 수도 있음\n",
    "\n",
    "def outlier_remove(df, method='IQR', threshold=1.5):\n",
    "    \n",
    "    # initialization\n",
    "    outlier_percentage = {}\n",
    "    df_rows = np.zeros(df.shape[0])    # outlier가 포함되어 있는 행에 대한 정보 유지\n",
    "    df_filtered = df.copy()            # outlier가 제외된 데이터셋\n",
    "\n",
    "# remove outlier based on quartiles : IQR(Interquantile Range)\n",
    "# IQR = Q3(upper 25%)-Q1(lower 25%)\n",
    "# outlier = ((Q1-1.5*IQR) > values) | (value > (Q3+1.5∗IQR))\n",
    "# defalut threshold = 1.5\n",
    "    \n",
    "    if (method == 'IQR'):\n",
    "        for feature in df:\n",
    "            tempData = df[feature]\n",
    "            data = tempData.to_numpy()\n",
    "            Q1, Q3 = tempData.quantile([0.25, 0.75])\n",
    "            IQR = Q3 - Q1\n",
    "            Lower_range = Q1 - (threshold * IQR)       \n",
    "            Upper_range = Q3 + (threshold * IQR)\n",
    "            # outlier 갯수 구하기\n",
    "            filtered_data = data[(Lower_range < tempData) & (tempData < Upper_range)] \n",
    "            outlier = data[(tempData < Lower_range) | (tempData > Upper_range)]\n",
    "            outlier_percentage[feature] = round((len(outlier)/len(data)) * 100, 2)\n",
    "\n",
    "            for i in range(df.shape[0]):\n",
    "                if ((Lower_range > data[i]) | (data[i] > Upper_range)):\n",
    "                    df_rows[i] = 1\n",
    "\n",
    "# remove outlier based on z-score\n",
    "# How many standard deviations the data deviates from the mean.\n",
    "# Classify anything over 3 as an outlier based on the normal absolute value\n",
    "# Z = (x-u)/a  x : data, u : mean, a : stansard deviation\n",
    "# defalut threshold = 3\n",
    "    if (method == 'z_score'):\n",
    "        for feature in df:\n",
    "            data = df[feature].to_numpy()\n",
    "            z_scores = np.abs(data - np.mean(data)) / np.std(data) # Z-score 계산      \n",
    "            filtered_data = data[z_scores < threshold]\n",
    "            outlier = data[z_scores>threshold]\n",
    "            outlier_percentage[feature] = round((len(outlier)/len(data)) * 100, 2)\n",
    "\n",
    "            # outlier 되어야 할 행에 대한 정보 관리\n",
    "            for i in range(df.shape[0]):\n",
    "                if (z_scores>threshold):\n",
    "                    df_rows[i] = 1\n",
    "        \n",
    "    return df_filtered, outlier_percentage"
   ]
  },
  {
   "cell_type": "code",
   "execution_count": 10,
   "metadata": {},
   "outputs": [
    {
     "data": {
      "text/html": [
       "<div>\n",
       "<style scoped>\n",
       "    .dataframe tbody tr th:only-of-type {\n",
       "        vertical-align: middle;\n",
       "    }\n",
       "\n",
       "    .dataframe tbody tr th {\n",
       "        vertical-align: top;\n",
       "    }\n",
       "\n",
       "    .dataframe thead th {\n",
       "        text-align: right;\n",
       "    }\n",
       "</style>\n",
       "<table border=\"1\" class=\"dataframe\">\n",
       "  <thead>\n",
       "    <tr style=\"text-align: right;\">\n",
       "      <th></th>\n",
       "      <th>BALANCE</th>\n",
       "      <th>BALANCE_FREQUENCY</th>\n",
       "      <th>PURCHASES</th>\n",
       "      <th>ONEOFF_PURCHASES</th>\n",
       "      <th>INSTALLMENTS_PURCHASES</th>\n",
       "      <th>CASH_ADVANCE</th>\n",
       "      <th>PURCHASES_FREQUENCY</th>\n",
       "      <th>ONEOFF_PURCHASES_FREQUENCY</th>\n",
       "      <th>PURCHASES_INSTALLMENTS_FREQUENCY</th>\n",
       "      <th>CASH_ADVANCE_FREQUENCY</th>\n",
       "      <th>CASH_ADVANCE_TRX</th>\n",
       "      <th>PURCHASES_TRX</th>\n",
       "      <th>CREDIT_LIMIT</th>\n",
       "      <th>PAYMENTS</th>\n",
       "      <th>MINIMUM_PAYMENTS</th>\n",
       "      <th>PRC_FULL_PAYMENT</th>\n",
       "      <th>TENURE</th>\n",
       "    </tr>\n",
       "  </thead>\n",
       "  <tbody>\n",
       "    <tr>\n",
       "      <th>0</th>\n",
       "      <td>40.900749</td>\n",
       "      <td>0.818182</td>\n",
       "      <td>95.40</td>\n",
       "      <td>0.00</td>\n",
       "      <td>95.4</td>\n",
       "      <td>0.000000</td>\n",
       "      <td>0.166667</td>\n",
       "      <td>0.000000</td>\n",
       "      <td>0.083333</td>\n",
       "      <td>0.000000</td>\n",
       "      <td>0</td>\n",
       "      <td>2</td>\n",
       "      <td>1000.0</td>\n",
       "      <td>201.802084</td>\n",
       "      <td>139.509787</td>\n",
       "      <td>0.000000</td>\n",
       "      <td>12</td>\n",
       "    </tr>\n",
       "    <tr>\n",
       "      <th>1</th>\n",
       "      <td>3202.467416</td>\n",
       "      <td>0.909091</td>\n",
       "      <td>0.00</td>\n",
       "      <td>0.00</td>\n",
       "      <td>0.0</td>\n",
       "      <td>6442.945483</td>\n",
       "      <td>0.000000</td>\n",
       "      <td>0.000000</td>\n",
       "      <td>0.000000</td>\n",
       "      <td>0.250000</td>\n",
       "      <td>4</td>\n",
       "      <td>0</td>\n",
       "      <td>7000.0</td>\n",
       "      <td>4103.032597</td>\n",
       "      <td>1072.340217</td>\n",
       "      <td>0.222222</td>\n",
       "      <td>12</td>\n",
       "    </tr>\n",
       "    <tr>\n",
       "      <th>2</th>\n",
       "      <td>2495.148862</td>\n",
       "      <td>1.000000</td>\n",
       "      <td>773.17</td>\n",
       "      <td>773.17</td>\n",
       "      <td>0.0</td>\n",
       "      <td>0.000000</td>\n",
       "      <td>1.000000</td>\n",
       "      <td>1.000000</td>\n",
       "      <td>0.000000</td>\n",
       "      <td>0.000000</td>\n",
       "      <td>0</td>\n",
       "      <td>12</td>\n",
       "      <td>7500.0</td>\n",
       "      <td>622.066742</td>\n",
       "      <td>627.284787</td>\n",
       "      <td>0.000000</td>\n",
       "      <td>12</td>\n",
       "    </tr>\n",
       "    <tr>\n",
       "      <th>3</th>\n",
       "      <td>1666.670542</td>\n",
       "      <td>0.636364</td>\n",
       "      <td>1499.00</td>\n",
       "      <td>1499.00</td>\n",
       "      <td>0.0</td>\n",
       "      <td>205.788017</td>\n",
       "      <td>0.083333</td>\n",
       "      <td>0.083333</td>\n",
       "      <td>0.000000</td>\n",
       "      <td>0.083333</td>\n",
       "      <td>1</td>\n",
       "      <td>1</td>\n",
       "      <td>7500.0</td>\n",
       "      <td>0.000000</td>\n",
       "      <td>864.206542</td>\n",
       "      <td>0.000000</td>\n",
       "      <td>12</td>\n",
       "    </tr>\n",
       "    <tr>\n",
       "      <th>4</th>\n",
       "      <td>817.714335</td>\n",
       "      <td>1.000000</td>\n",
       "      <td>16.00</td>\n",
       "      <td>16.00</td>\n",
       "      <td>0.0</td>\n",
       "      <td>0.000000</td>\n",
       "      <td>0.083333</td>\n",
       "      <td>0.083333</td>\n",
       "      <td>0.000000</td>\n",
       "      <td>0.000000</td>\n",
       "      <td>0</td>\n",
       "      <td>1</td>\n",
       "      <td>1200.0</td>\n",
       "      <td>678.334763</td>\n",
       "      <td>244.791237</td>\n",
       "      <td>0.000000</td>\n",
       "      <td>12</td>\n",
       "    </tr>\n",
       "  </tbody>\n",
       "</table>\n",
       "</div>"
      ],
      "text/plain": [
       "       BALANCE  BALANCE_FREQUENCY  PURCHASES  ONEOFF_PURCHASES  \\\n",
       "0    40.900749           0.818182      95.40              0.00   \n",
       "1  3202.467416           0.909091       0.00              0.00   \n",
       "2  2495.148862           1.000000     773.17            773.17   \n",
       "3  1666.670542           0.636364    1499.00           1499.00   \n",
       "4   817.714335           1.000000      16.00             16.00   \n",
       "\n",
       "   INSTALLMENTS_PURCHASES  CASH_ADVANCE  PURCHASES_FREQUENCY  \\\n",
       "0                    95.4      0.000000             0.166667   \n",
       "1                     0.0   6442.945483             0.000000   \n",
       "2                     0.0      0.000000             1.000000   \n",
       "3                     0.0    205.788017             0.083333   \n",
       "4                     0.0      0.000000             0.083333   \n",
       "\n",
       "   ONEOFF_PURCHASES_FREQUENCY  PURCHASES_INSTALLMENTS_FREQUENCY  \\\n",
       "0                    0.000000                          0.083333   \n",
       "1                    0.000000                          0.000000   \n",
       "2                    1.000000                          0.000000   \n",
       "3                    0.083333                          0.000000   \n",
       "4                    0.083333                          0.000000   \n",
       "\n",
       "   CASH_ADVANCE_FREQUENCY  CASH_ADVANCE_TRX  PURCHASES_TRX  CREDIT_LIMIT  \\\n",
       "0                0.000000                 0              2        1000.0   \n",
       "1                0.250000                 4              0        7000.0   \n",
       "2                0.000000                 0             12        7500.0   \n",
       "3                0.083333                 1              1        7500.0   \n",
       "4                0.000000                 0              1        1200.0   \n",
       "\n",
       "      PAYMENTS  MINIMUM_PAYMENTS  PRC_FULL_PAYMENT  TENURE  \n",
       "0   201.802084        139.509787          0.000000      12  \n",
       "1  4103.032597       1072.340217          0.222222      12  \n",
       "2   622.066742        627.284787          0.000000      12  \n",
       "3     0.000000        864.206542          0.000000      12  \n",
       "4   678.334763        244.791237          0.000000      12  "
      ]
     },
     "execution_count": 10,
     "metadata": {},
     "output_type": "execute_result"
    }
   ],
   "source": [
    "df.head()"
   ]
  },
  {
   "cell_type": "code",
   "execution_count": 11,
   "metadata": {},
   "outputs": [],
   "source": [
    "# function for scaling\n",
    "def scaling(df) :\n",
    "    SS=StandardScaler()\n",
    "    df_scaled=SS.fit_transform(df[df.columns])\n",
    "    \n",
    "    return df_scaled"
   ]
  },
  {
   "cell_type": "code",
   "execution_count": 12,
   "metadata": {},
   "outputs": [],
   "source": [
    "df_scaled = scaling(df)"
   ]
  },
  {
   "cell_type": "code",
   "execution_count": 13,
   "metadata": {},
   "outputs": [
    {
     "data": {
      "text/html": [
       "<div>\n",
       "<style scoped>\n",
       "    .dataframe tbody tr th:only-of-type {\n",
       "        vertical-align: middle;\n",
       "    }\n",
       "\n",
       "    .dataframe tbody tr th {\n",
       "        vertical-align: top;\n",
       "    }\n",
       "\n",
       "    .dataframe thead th {\n",
       "        text-align: right;\n",
       "    }\n",
       "</style>\n",
       "<table border=\"1\" class=\"dataframe\">\n",
       "  <thead>\n",
       "    <tr style=\"text-align: right;\">\n",
       "      <th></th>\n",
       "      <th>0</th>\n",
       "      <th>1</th>\n",
       "      <th>2</th>\n",
       "      <th>3</th>\n",
       "      <th>4</th>\n",
       "      <th>5</th>\n",
       "      <th>6</th>\n",
       "      <th>7</th>\n",
       "      <th>8</th>\n",
       "      <th>9</th>\n",
       "      <th>10</th>\n",
       "      <th>11</th>\n",
       "      <th>12</th>\n",
       "      <th>13</th>\n",
       "      <th>14</th>\n",
       "      <th>15</th>\n",
       "      <th>16</th>\n",
       "    </tr>\n",
       "  </thead>\n",
       "  <tbody>\n",
       "    <tr>\n",
       "      <th>0</th>\n",
       "      <td>-0.731989</td>\n",
       "      <td>-0.249434</td>\n",
       "      <td>-0.424900</td>\n",
       "      <td>-0.356934</td>\n",
       "      <td>-0.349079</td>\n",
       "      <td>-0.466786</td>\n",
       "      <td>-0.806490</td>\n",
       "      <td>-0.678661</td>\n",
       "      <td>-0.707313</td>\n",
       "      <td>-0.675349</td>\n",
       "      <td>-0.476070</td>\n",
       "      <td>-0.511333</td>\n",
       "      <td>-0.960433</td>\n",
       "      <td>-0.528979</td>\n",
       "      <td>-3.109675e-01</td>\n",
       "      <td>-0.525551</td>\n",
       "      <td>0.36068</td>\n",
       "    </tr>\n",
       "    <tr>\n",
       "      <th>1</th>\n",
       "      <td>0.786961</td>\n",
       "      <td>0.134325</td>\n",
       "      <td>-0.469552</td>\n",
       "      <td>-0.356934</td>\n",
       "      <td>-0.454576</td>\n",
       "      <td>2.605605</td>\n",
       "      <td>-1.221758</td>\n",
       "      <td>-0.678661</td>\n",
       "      <td>-0.916995</td>\n",
       "      <td>0.573963</td>\n",
       "      <td>0.110074</td>\n",
       "      <td>-0.591796</td>\n",
       "      <td>0.688639</td>\n",
       "      <td>0.818642</td>\n",
       "      <td>8.931021e-02</td>\n",
       "      <td>0.234227</td>\n",
       "      <td>0.36068</td>\n",
       "    </tr>\n",
       "    <tr>\n",
       "      <th>2</th>\n",
       "      <td>0.447135</td>\n",
       "      <td>0.518084</td>\n",
       "      <td>-0.107668</td>\n",
       "      <td>0.108889</td>\n",
       "      <td>-0.454576</td>\n",
       "      <td>-0.466786</td>\n",
       "      <td>1.269843</td>\n",
       "      <td>2.673451</td>\n",
       "      <td>-0.916995</td>\n",
       "      <td>-0.675349</td>\n",
       "      <td>-0.476070</td>\n",
       "      <td>-0.109020</td>\n",
       "      <td>0.826062</td>\n",
       "      <td>-0.383805</td>\n",
       "      <td>-1.016632e-01</td>\n",
       "      <td>-0.525551</td>\n",
       "      <td>0.36068</td>\n",
       "    </tr>\n",
       "    <tr>\n",
       "      <th>3</th>\n",
       "      <td>0.049099</td>\n",
       "      <td>-1.016953</td>\n",
       "      <td>0.232058</td>\n",
       "      <td>0.546189</td>\n",
       "      <td>-0.454576</td>\n",
       "      <td>-0.368653</td>\n",
       "      <td>-1.014125</td>\n",
       "      <td>-0.399319</td>\n",
       "      <td>-0.916995</td>\n",
       "      <td>-0.258913</td>\n",
       "      <td>-0.329534</td>\n",
       "      <td>-0.551565</td>\n",
       "      <td>0.826062</td>\n",
       "      <td>-0.598688</td>\n",
       "      <td>4.878305e-17</td>\n",
       "      <td>-0.525551</td>\n",
       "      <td>0.36068</td>\n",
       "    </tr>\n",
       "    <tr>\n",
       "      <th>4</th>\n",
       "      <td>-0.358775</td>\n",
       "      <td>0.518084</td>\n",
       "      <td>-0.462063</td>\n",
       "      <td>-0.347294</td>\n",
       "      <td>-0.454576</td>\n",
       "      <td>-0.466786</td>\n",
       "      <td>-1.014125</td>\n",
       "      <td>-0.399319</td>\n",
       "      <td>-0.916995</td>\n",
       "      <td>-0.675349</td>\n",
       "      <td>-0.476070</td>\n",
       "      <td>-0.551565</td>\n",
       "      <td>-0.905464</td>\n",
       "      <td>-0.364368</td>\n",
       "      <td>-2.657913e-01</td>\n",
       "      <td>-0.525551</td>\n",
       "      <td>0.36068</td>\n",
       "    </tr>\n",
       "  </tbody>\n",
       "</table>\n",
       "</div>"
      ],
      "text/plain": [
       "         0         1         2         3         4         5         6   \\\n",
       "0 -0.731989 -0.249434 -0.424900 -0.356934 -0.349079 -0.466786 -0.806490   \n",
       "1  0.786961  0.134325 -0.469552 -0.356934 -0.454576  2.605605 -1.221758   \n",
       "2  0.447135  0.518084 -0.107668  0.108889 -0.454576 -0.466786  1.269843   \n",
       "3  0.049099 -1.016953  0.232058  0.546189 -0.454576 -0.368653 -1.014125   \n",
       "4 -0.358775  0.518084 -0.462063 -0.347294 -0.454576 -0.466786 -1.014125   \n",
       "\n",
       "         7         8         9         10        11        12        13  \\\n",
       "0 -0.678661 -0.707313 -0.675349 -0.476070 -0.511333 -0.960433 -0.528979   \n",
       "1 -0.678661 -0.916995  0.573963  0.110074 -0.591796  0.688639  0.818642   \n",
       "2  2.673451 -0.916995 -0.675349 -0.476070 -0.109020  0.826062 -0.383805   \n",
       "3 -0.399319 -0.916995 -0.258913 -0.329534 -0.551565  0.826062 -0.598688   \n",
       "4 -0.399319 -0.916995 -0.675349 -0.476070 -0.551565 -0.905464 -0.364368   \n",
       "\n",
       "             14        15       16  \n",
       "0 -3.109675e-01 -0.525551  0.36068  \n",
       "1  8.931021e-02  0.234227  0.36068  \n",
       "2 -1.016632e-01 -0.525551  0.36068  \n",
       "3  4.878305e-17 -0.525551  0.36068  \n",
       "4 -2.657913e-01 -0.525551  0.36068  "
      ]
     },
     "execution_count": 13,
     "metadata": {},
     "output_type": "execute_result"
    }
   ],
   "source": [
    "pd.DataFrame(df_scaled).head()"
   ]
  },
  {
   "cell_type": "code",
   "execution_count": 14,
   "metadata": {},
   "outputs": [
    {
     "name": "stdout",
     "output_type": "stream",
     "text": [
      "{'BALANCE': 2.393386042571806, 'BALANCE_FREQUENCY': -2.0232655185149087, 'PURCHASES': 8.144269064554654, 'ONEOFF_PURCHASES': 10.045082884700284, 'INSTALLMENTS_PURCHASES': 7.299119908745641, 'CASH_ADVANCE': 5.166609074074723, 'PURCHASES_FREQUENCY': 0.06016423585803502, 'ONEOFF_PURCHASES_FREQUENCY': 1.5356127835248508, 'PURCHASES_INSTALLMENTS_FREQUENCY': 0.5092011649999885, 'CASH_ADVANCE_FREQUENCY': 1.8286862664778514, 'CASH_ADVANCE_TRX': 5.721298203192299, 'PURCHASES_TRX': 4.630655265932403, 'CREDIT_LIMIT': 1.5225490377498587, 'PAYMENTS': 5.907619794397565, 'MINIMUM_PAYMENTS': 13.86735725976256, 'PRC_FULL_PAYMENT': 1.9428199409718574, 'TENURE': -2.9430172876199148}\n"
     ]
    }
   ],
   "source": [
    "#skewness normal\n",
    "skew_r = skewness(df, method = 'normal', plot='False')\n",
    "print(skew_r)"
   ]
  },
  {
   "cell_type": "code",
   "execution_count": 15,
   "metadata": {},
   "outputs": [
    {
     "name": "stdout",
     "output_type": "stream",
     "text": [
      "{0: -0.998832409949357, 1: -3.4958540022682576, 2: -0.8221609053186226, 3: -0.5835662607368457, 4: -0.7707120108162759, 5: -0.9166399451572796, 6: -2.0552516173973467, 7: -0.6390591221890417, 8: -1.343234825580168, 9: -0.39507671009877393, 10: -0.00820829134562055, 11: -0.7087886787688276, 12: nan, 13: -0.8487076138690102, 14: -2.130286645439263, 15: -1.1068820846108198, 16: 0.0}\n"
     ]
    },
    {
     "name": "stderr",
     "output_type": "stream",
     "text": [
      "/Users/kyeongdeokmoon/miniconda3/lib/python3.11/site-packages/pandas/core/arraylike.py:396: RuntimeWarning: invalid value encountered in log\n",
      "  result = getattr(ufunc, method)(*inputs, **kwargs)\n",
      "/Users/kyeongdeokmoon/miniconda3/lib/python3.11/site-packages/pandas/core/arraylike.py:396: RuntimeWarning: divide by zero encountered in log\n",
      "  result = getattr(ufunc, method)(*inputs, **kwargs)\n",
      "/Users/kyeongdeokmoon/miniconda3/lib/python3.11/site-packages/pandas/core/nanops.py:1248: RuntimeWarning: invalid value encountered in subtract\n",
      "  adjusted = values - mean\n"
     ]
    }
   ],
   "source": [
    "#skewness log\n",
    "skew_r = skewness(pd.DataFrame(df_scaled), method = 'log', plot='False')\n",
    "print(skew_r)"
   ]
  },
  {
   "cell_type": "code",
   "execution_count": 16,
   "metadata": {},
   "outputs": [
    {
     "name": "stdout",
     "output_type": "stream",
     "text": [
      "{0: 0.594303979811689, 1: -3.2766005479602924, 2: 1.8889739592521435, 3: 2.154745155891824, 4: 1.677140727145852, 5: 1.166932744380721, 6: -1.2885511304771178, 7: -0.10386893664029657, 8: -0.8540548272145774, 9: 0.43772404931878794, 10: 1.4849128683241837, 11: 1.2790854016996753, 12: 0.2596556590872664, 13: 1.5825141000264942, 14: 2.6431518703085275, 15: -0.34559731599400995, 16: 0.0}\n"
     ]
    },
    {
     "name": "stderr",
     "output_type": "stream",
     "text": [
      "/Users/kyeongdeokmoon/miniconda3/lib/python3.11/site-packages/pandas/core/arraylike.py:396: RuntimeWarning: invalid value encountered in sqrt\n",
      "  result = getattr(ufunc, method)(*inputs, **kwargs)\n"
     ]
    }
   ],
   "source": [
    "#skewness sqrt\n",
    "skew_r = skewness(pd.DataFrame(df_scaled), method = 'sqrt', plot='False')\n",
    "print(skew_r)"
   ]
  },
  {
   "cell_type": "code",
   "execution_count": 17,
   "metadata": {},
   "outputs": [
    {
     "data": {
      "text/html": [
       "<div>\n",
       "<style scoped>\n",
       "    .dataframe tbody tr th:only-of-type {\n",
       "        vertical-align: middle;\n",
       "    }\n",
       "\n",
       "    .dataframe tbody tr th {\n",
       "        vertical-align: top;\n",
       "    }\n",
       "\n",
       "    .dataframe thead th {\n",
       "        text-align: right;\n",
       "    }\n",
       "</style>\n",
       "<table border=\"1\" class=\"dataframe\">\n",
       "  <thead>\n",
       "    <tr style=\"text-align: right;\">\n",
       "      <th></th>\n",
       "      <th>0</th>\n",
       "      <th>1</th>\n",
       "      <th>2</th>\n",
       "      <th>3</th>\n",
       "      <th>4</th>\n",
       "      <th>5</th>\n",
       "      <th>6</th>\n",
       "      <th>7</th>\n",
       "      <th>8</th>\n",
       "      <th>9</th>\n",
       "      <th>10</th>\n",
       "      <th>11</th>\n",
       "      <th>12</th>\n",
       "      <th>13</th>\n",
       "      <th>14</th>\n",
       "      <th>15</th>\n",
       "      <th>16</th>\n",
       "    </tr>\n",
       "  </thead>\n",
       "  <tbody>\n",
       "    <tr>\n",
       "      <th>0</th>\n",
       "      <td>-0.731989</td>\n",
       "      <td>-0.249434</td>\n",
       "      <td>-0.424900</td>\n",
       "      <td>-0.356934</td>\n",
       "      <td>-0.349079</td>\n",
       "      <td>-0.466786</td>\n",
       "      <td>-0.806490</td>\n",
       "      <td>-0.678661</td>\n",
       "      <td>-0.707313</td>\n",
       "      <td>-0.675349</td>\n",
       "      <td>-0.476070</td>\n",
       "      <td>-0.511333</td>\n",
       "      <td>-0.960433</td>\n",
       "      <td>-0.528979</td>\n",
       "      <td>-3.109675e-01</td>\n",
       "      <td>-0.525551</td>\n",
       "      <td>0.36068</td>\n",
       "    </tr>\n",
       "    <tr>\n",
       "      <th>1</th>\n",
       "      <td>0.786961</td>\n",
       "      <td>0.134325</td>\n",
       "      <td>-0.469552</td>\n",
       "      <td>-0.356934</td>\n",
       "      <td>-0.454576</td>\n",
       "      <td>2.605605</td>\n",
       "      <td>-1.221758</td>\n",
       "      <td>-0.678661</td>\n",
       "      <td>-0.916995</td>\n",
       "      <td>0.573963</td>\n",
       "      <td>0.110074</td>\n",
       "      <td>-0.591796</td>\n",
       "      <td>0.688639</td>\n",
       "      <td>0.818642</td>\n",
       "      <td>8.931021e-02</td>\n",
       "      <td>0.234227</td>\n",
       "      <td>0.36068</td>\n",
       "    </tr>\n",
       "    <tr>\n",
       "      <th>2</th>\n",
       "      <td>0.447135</td>\n",
       "      <td>0.518084</td>\n",
       "      <td>-0.107668</td>\n",
       "      <td>0.108889</td>\n",
       "      <td>-0.454576</td>\n",
       "      <td>-0.466786</td>\n",
       "      <td>1.269843</td>\n",
       "      <td>2.673451</td>\n",
       "      <td>-0.916995</td>\n",
       "      <td>-0.675349</td>\n",
       "      <td>-0.476070</td>\n",
       "      <td>-0.109020</td>\n",
       "      <td>0.826062</td>\n",
       "      <td>-0.383805</td>\n",
       "      <td>-1.016632e-01</td>\n",
       "      <td>-0.525551</td>\n",
       "      <td>0.36068</td>\n",
       "    </tr>\n",
       "    <tr>\n",
       "      <th>3</th>\n",
       "      <td>0.049099</td>\n",
       "      <td>-1.016953</td>\n",
       "      <td>0.232058</td>\n",
       "      <td>0.546189</td>\n",
       "      <td>-0.454576</td>\n",
       "      <td>-0.368653</td>\n",
       "      <td>-1.014125</td>\n",
       "      <td>-0.399319</td>\n",
       "      <td>-0.916995</td>\n",
       "      <td>-0.258913</td>\n",
       "      <td>-0.329534</td>\n",
       "      <td>-0.551565</td>\n",
       "      <td>0.826062</td>\n",
       "      <td>-0.598688</td>\n",
       "      <td>4.878305e-17</td>\n",
       "      <td>-0.525551</td>\n",
       "      <td>0.36068</td>\n",
       "    </tr>\n",
       "    <tr>\n",
       "      <th>4</th>\n",
       "      <td>-0.358775</td>\n",
       "      <td>0.518084</td>\n",
       "      <td>-0.462063</td>\n",
       "      <td>-0.347294</td>\n",
       "      <td>-0.454576</td>\n",
       "      <td>-0.466786</td>\n",
       "      <td>-1.014125</td>\n",
       "      <td>-0.399319</td>\n",
       "      <td>-0.916995</td>\n",
       "      <td>-0.675349</td>\n",
       "      <td>-0.476070</td>\n",
       "      <td>-0.551565</td>\n",
       "      <td>-0.905464</td>\n",
       "      <td>-0.364368</td>\n",
       "      <td>-2.657913e-01</td>\n",
       "      <td>-0.525551</td>\n",
       "      <td>0.36068</td>\n",
       "    </tr>\n",
       "  </tbody>\n",
       "</table>\n",
       "</div>"
      ],
      "text/plain": [
       "         0         1         2         3         4         5         6   \\\n",
       "0 -0.731989 -0.249434 -0.424900 -0.356934 -0.349079 -0.466786 -0.806490   \n",
       "1  0.786961  0.134325 -0.469552 -0.356934 -0.454576  2.605605 -1.221758   \n",
       "2  0.447135  0.518084 -0.107668  0.108889 -0.454576 -0.466786  1.269843   \n",
       "3  0.049099 -1.016953  0.232058  0.546189 -0.454576 -0.368653 -1.014125   \n",
       "4 -0.358775  0.518084 -0.462063 -0.347294 -0.454576 -0.466786 -1.014125   \n",
       "\n",
       "         7         8         9         10        11        12        13  \\\n",
       "0 -0.678661 -0.707313 -0.675349 -0.476070 -0.511333 -0.960433 -0.528979   \n",
       "1 -0.678661 -0.916995  0.573963  0.110074 -0.591796  0.688639  0.818642   \n",
       "2  2.673451 -0.916995 -0.675349 -0.476070 -0.109020  0.826062 -0.383805   \n",
       "3 -0.399319 -0.916995 -0.258913 -0.329534 -0.551565  0.826062 -0.598688   \n",
       "4 -0.399319 -0.916995 -0.675349 -0.476070 -0.551565 -0.905464 -0.364368   \n",
       "\n",
       "             14        15       16  \n",
       "0 -3.109675e-01 -0.525551  0.36068  \n",
       "1  8.931021e-02  0.234227  0.36068  \n",
       "2 -1.016632e-01 -0.525551  0.36068  \n",
       "3  4.878305e-17 -0.525551  0.36068  \n",
       "4 -2.657913e-01 -0.525551  0.36068  "
      ]
     },
     "execution_count": 17,
     "metadata": {},
     "output_type": "execute_result"
    }
   ],
   "source": [
    "pd.DataFrame(df_scaled).head()"
   ]
  },
  {
   "cell_type": "code",
   "execution_count": 18,
   "metadata": {},
   "outputs": [
    {
     "name": "stdout",
     "output_type": "stream",
     "text": [
      "0.7989505121522804\n"
     ]
    }
   ],
   "source": [
    "# measuring the cluster tendency of a data set\n",
    "\n",
    "hopkins_score = hopkins(df_scaled)\n",
    "print(hopkins_score)"
   ]
  },
  {
   "cell_type": "code",
   "execution_count": 19,
   "metadata": {},
   "outputs": [
    {
     "name": "stdout",
     "output_type": "stream",
     "text": [
      "{'BALANCE': 7.77, 'BALANCE_FREQUENCY': 16.68, 'PURCHASES': 9.03, 'ONEOFF_PURCHASES': 11.32, 'INSTALLMENTS_PURCHASES': 9.69, 'CASH_ADVANCE': 11.51, 'PURCHASES_FREQUENCY': 0.0, 'ONEOFF_PURCHASES_FREQUENCY': 8.74, 'PURCHASES_INSTALLMENTS_FREQUENCY': 0.0, 'CASH_ADVANCE_FREQUENCY': 5.87, 'CASH_ADVANCE_TRX': 8.98, 'PURCHASES_TRX': 8.56, 'CREDIT_LIMIT': 2.77, 'PAYMENTS': 9.03, 'MINIMUM_PAYMENTS': 8.65, 'PRC_FULL_PAYMENT': 16.47, 'TENURE': 15.26}\n"
     ]
    }
   ],
   "source": [
    "# measuring and removing the outlier of a data set\n",
    "\n",
    "df_filtered, outlier_percentage = outlier_remove(df, method='IQR', threshold=1.5)\n",
    "\n",
    "print(outlier_percentage)"
   ]
  },
  {
   "cell_type": "code",
   "execution_count": 20,
   "metadata": {},
   "outputs": [],
   "source": [
    "# dictionary for storing results\n",
    "\n",
    "results = {\n",
    "    \"KMeans\": {\n",
    "        \"normal\": {},\n",
    "        \"umap\": {},\n",
    "        \"pca\": {},\n",
    "    },\n",
    "    \"DBSCAN\": {\n",
    "        \"normal\": {},\n",
    "        \"umap\": {},\n",
    "        \"pca\": {}\n",
    "    },\n",
    "    \"OPTICS\": {\n",
    "        \"normal\": {},\n",
    "        \"umap\": {},\n",
    "        \"pca\": {}\n",
    "    },\n",
    "    \"GMM\": {\n",
    "        \"normal\": {},\n",
    "        \"umap\": {},\n",
    "        \"pca\": {}\n",
    "    },\n",
    "    \"AGL\": {\n",
    "        \"normal\": {},\n",
    "        \"umap\": {},\n",
    "        \"pca\": {}\n",
    "    }\n",
    "}"
   ]
  },
  {
   "cell_type": "markdown",
   "metadata": {},
   "source": [
    "K-Means Normal with original dataset"
   ]
  },
  {
   "cell_type": "code",
   "execution_count": 21,
   "metadata": {
    "scrolled": true
   },
   "outputs": [
    {
     "name": "stdout",
     "output_type": "stream",
     "text": [
      "Silhouette Coefficient: 0.25\n",
      "Calinski-Harabasz Index: 1604.40\n",
      "Davies-Bouldin Index: 1.60\n",
      "Time: 0.30\n"
     ]
    }
   ],
   "source": [
    "n = 3\n",
    "\n",
    "start = time.time()\n",
    "kmeans_normal = KMeans(n_clusters=n, init='k-means++', max_iter=300, n_init='auto', random_state=0)\n",
    "kmeans_labels_normal = kmeans_normal.fit_predict(df_scaled)  \n",
    "end = time.time()\n",
    "\n",
    "results[\"KMeans\"][\"normal\"][\"Silhouette Coefficient\"] = silhouette_score(df_scaled, kmeans_labels_normal)\n",
    "results[\"KMeans\"][\"normal\"][\"Calinski-Harabasz Index\"] = calinski_harabasz_score(df_scaled, kmeans_labels_normal)\n",
    "results[\"KMeans\"][\"normal\"][\"Davies-Bouldin Index\"] = davies_bouldin_score(df_scaled, kmeans_labels_normal)\n",
    "results[\"KMeans\"][\"normal\"][\"Time\"] = end - start\n",
    "\n",
    "for metric, value in results[\"KMeans\"][\"normal\"].items():\n",
    "    print(f\"{metric}: {value:.2f}\")\n"
   ]
  },
  {
   "cell_type": "markdown",
   "metadata": {},
   "source": [
    "K-Means with UMAP"
   ]
  },
  {
   "cell_type": "code",
   "execution_count": 22,
   "metadata": {},
   "outputs": [],
   "source": [
    "distance = \"euclidean\" # \"euclidean\",\"cosine\",\"correlation\"\n",
    "\n",
    "reducer = umap.UMAP(metric = distance)\n",
    "embedding = reducer.fit_transform(df_scaled)\n",
    "\n",
    "df_umap = pd.DataFrame(embedding)"
   ]
  },
  {
   "cell_type": "code",
   "execution_count": 23,
   "metadata": {},
   "outputs": [
    {
     "name": "stdout",
     "output_type": "stream",
     "text": [
      "Silhouette Coefficient: 0.40\n",
      "Calinski-Harabasz Index: 8157.89\n",
      "Davies-Bouldin Index: 0.88\n",
      "Time: 0.32\n"
     ]
    }
   ],
   "source": [
    "start = time.time()\n",
    "kmeans_umap = KMeans(n_clusters=3, init='k-means++', max_iter=300, n_init=10, random_state=0)\n",
    "kmeans_labels_umap = kmeans_umap.fit_predict(df_umap)\n",
    "end = time.time()\n",
    "\n",
    "results[\"KMeans\"][\"umap\"][\"Silhouette Coefficient\"] = silhouette_score(df_umap, kmeans_labels_umap)\n",
    "results[\"KMeans\"][\"umap\"][\"Calinski-Harabasz Index\"] = calinski_harabasz_score(df_umap, kmeans_labels_umap)\n",
    "results[\"KMeans\"][\"umap\"][\"Davies-Bouldin Index\"] = davies_bouldin_score(df_umap, kmeans_labels_umap)\n",
    "results[\"KMeans\"][\"umap\"][\"Time\"] = end-start\n",
    "\n",
    "for metric, value in results[\"KMeans\"][\"umap\"].items():\n",
    "    print(f\"{metric}: {value:.2f}\")\n"
   ]
  },
  {
   "cell_type": "markdown",
   "metadata": {},
   "source": [
    "K-Means with PCA"
   ]
  },
  {
   "cell_type": "code",
   "execution_count": 24,
   "metadata": {},
   "outputs": [],
   "source": [
    "k=2\n",
    "pca = PCA(n_components=k)\n",
    "df_pca = pca.fit_transform(df_scaled)"
   ]
  },
  {
   "cell_type": "code",
   "execution_count": 25,
   "metadata": {},
   "outputs": [
    {
     "name": "stdout",
     "output_type": "stream",
     "text": [
      "components= [0 1 0 ... 0 0 0]\n",
      "Silhouette Coefficient: 0.45\n",
      "Calinski-Harabasz Index: 5337.48\n",
      "Davies-Bouldin Index: 0.81\n",
      "Time: 1.05\n"
     ]
    }
   ],
   "source": [
    "start = time.time()\n",
    "kmeans_pca = KMeans(n_clusters=3, init='k-means++', max_iter=300, n_init=10, random_state=0)\n",
    "kmeans_labels_pca = kmeans_pca.fit_predict(df_pca)\n",
    "end = time.time()\n",
    "\n",
    "results[\"KMeans\"][\"pca\"][\"Silhouette Coefficient\"] = silhouette_score(df_pca, kmeans_labels_pca)\n",
    "results[\"KMeans\"][\"pca\"][\"Calinski-Harabasz Index\"] = calinski_harabasz_score(df_pca, kmeans_labels_pca)\n",
    "results[\"KMeans\"][\"pca\"][\"Davies-Bouldin Index\"] = davies_bouldin_score(df_pca, kmeans_labels_pca)\n",
    "results[\"KMeans\"][\"pca\"][\"Time\"] = end - start\n",
    "\n",
    "print('components=', kmeans_pca.labels_)\n",
    "for metric, value in results[\"KMeans\"][\"pca\"].items():\n",
    "    print(f\"{metric}: {value:.2f}\")"
   ]
  },
  {
   "cell_type": "markdown",
   "metadata": {},
   "source": [
    "DBSCAN with original dataset"
   ]
  },
  {
   "cell_type": "code",
   "execution_count": 28,
   "metadata": {},
   "outputs": [
    {
     "name": "stdout",
     "output_type": "stream",
     "text": [
      "Silhouette Coefficient: 0.52\n",
      "Calinski-Harabasz Index: 939.76\n",
      "Davies-Bouldin Index: 1.97\n",
      "Time: 0.19\n"
     ]
    }
   ],
   "source": [
    "start = time.time()\n",
    "dbscan_normal = DBSCAN(eps=2.2, min_samples=5)\n",
    "dbscan_labels_normal = dbscan_normal.fit_predict(df_scaled)\n",
    "end = time.time()\n",
    "\n",
    "results[\"DBSCAN\"][\"normal\"][\"Silhouette Coefficient\"] = silhouette_score(df_scaled, dbscan_labels_normal) if len(np.unique(dbscan_labels_normal)) > 1 else 0\n",
    "results[\"DBSCAN\"][\"normal\"][\"Calinski-Harabasz Index\"] = calinski_harabasz_score(df_scaled, dbscan_labels_normal) if len(np.unique(dbscan_labels_normal)) > 1 else 0\n",
    "results[\"DBSCAN\"][\"normal\"][\"Davies-Bouldin Index\"] = davies_bouldin_score(df_scaled, dbscan_labels_normal) if len(np.unique(dbscan_labels_normal)) > 1 else 0\n",
    "results[\"DBSCAN\"][\"normal\"][\"Time\"] = end - start\n",
    "\n",
    "for metric, value in results[\"DBSCAN\"][\"normal\"].items():\n",
    "    print(f\"{metric}: {value:.2f}\")"
   ]
  },
  {
   "cell_type": "markdown",
   "metadata": {},
   "source": [
    "DBSCAN with UMAP"
   ]
  },
  {
   "cell_type": "code",
   "execution_count": 29,
   "metadata": {},
   "outputs": [
    {
     "name": "stdout",
     "output_type": "stream",
     "text": [
      "Silhouette Coefficient: 0.26\n",
      "Calinski-Harabasz Index: 239.44\n",
      "Davies-Bouldin Index: 0.61\n",
      "Time: 0.17\n"
     ]
    }
   ],
   "source": [
    "start = time.time()\n",
    "dbscan_umap = DBSCAN(eps=2.23, min_samples=5)\n",
    "dbscan_labels_umap = dbscan_umap.fit_predict(df_umap)\n",
    "end = time.time()\n",
    "\n",
    "results[\"DBSCAN\"][\"umap\"][\"Silhouette Coefficient\"] = silhouette_score(df_umap, dbscan_labels_umap) if len(np.unique(dbscan_labels_umap)) > 1 else 0\n",
    "results[\"DBSCAN\"][\"umap\"][\"Calinski-Harabasz Index\"] = calinski_harabasz_score(df_umap, dbscan_labels_umap)\n",
    "results[\"DBSCAN\"][\"umap\"][\"Davies-Bouldin Index\"] = davies_bouldin_score(df_umap, dbscan_labels_umap)\n",
    "results[\"DBSCAN\"][\"umap\"][\"Time\"] = end - start\n",
    "\n",
    "for metric, value in results[\"DBSCAN\"][\"umap\"].items():\n",
    "    print(f\"{metric}: {value:.2f}\")"
   ]
  },
  {
   "cell_type": "markdown",
   "metadata": {},
   "source": [
    "DBSCAN with PCA"
   ]
  },
  {
   "cell_type": "code",
   "execution_count": 32,
   "metadata": {},
   "outputs": [
    {
     "name": "stdout",
     "output_type": "stream",
     "text": [
      "Silhouette Coefficient: 0.80\n",
      "Calinski-Harabasz Index: 1347.23\n",
      "Davies-Bouldin Index: 0.78\n",
      "Time: 0.17\n"
     ]
    }
   ],
   "source": [
    "start = time.time()\n",
    "dbscan_pca = DBSCAN(eps=1, min_samples=5)\n",
    "dbscan_labels_pca = dbscan_pca.fit_predict(df_pca)\n",
    "end = time.time()\n",
    "\n",
    "results[\"DBSCAN\"][\"pca\"][\"Silhouette Coefficient\"] = silhouette_score(df_pca, dbscan_labels_pca) if len(np.unique(dbscan_labels_pca)) > 1 else 0\n",
    "results[\"DBSCAN\"][\"pca\"][\"Calinski-Harabasz Index\"] = calinski_harabasz_score(df_pca, dbscan_labels_pca)\n",
    "results[\"DBSCAN\"][\"pca\"][\"Davies-Bouldin Index\"] = davies_bouldin_score(df_pca, dbscan_labels_pca)\n",
    "results[\"DBSCAN\"][\"pca\"][\"Time\"] = end - start\n",
    "\n",
    "for metric, value in results[\"DBSCAN\"][\"pca\"].items():\n",
    "    print(f\"{metric}: {value:.2f}\")"
   ]
  },
  {
   "attachments": {},
   "cell_type": "raw",
   "metadata": {},
   "source": [
    "GMM with original\n",
    "\n",
    "# n_componentsint, default=1; The number of mixture components.\n",
    "# covariance_type{‘full’, ‘tied’, ‘diag’, ‘spherical’}, default=’full’\n",
    "\n",
    "# max_iterint, default=100; The number of EM iterations to perform.\n",
    "# n_initint, default=1; The number of initializations to perform. The best results are kept.\n",
    "# init_params{‘kmeans’, ‘k-means++’, ‘random’, ‘random_from_data’}, default=’kmeans’"
   ]
  },
  {
   "cell_type": "code",
   "execution_count": 33,
   "metadata": {},
   "outputs": [
    {
     "name": "stdout",
     "output_type": "stream",
     "text": [
      "Silhouette Coefficient: 0.25\n",
      "Calinski-Harabasz Index: 1604.40\n",
      "Davies-Bouldin Index: 1.60\n",
      "Time: 0.30\n"
     ]
    }
   ],
   "source": [
    "start = time.time()\n",
    "gmm_normal = GaussianMixture(n_components=3, covariance_type='full', init_params='kmeans', random_state=42, n_init=10)\n",
    "gmm_labels_normal = gmm_normal.fit_predict(df_scaled)\n",
    "end = time.time()\n",
    "\n",
    "results[\"GMM\"][\"normal\"][\"Silhouette Coefficient\"] = silhouette_score(df_scaled, gmm_labels_normal)\n",
    "results[\"GMM\"][\"normal\"][\"Calinski-Harabasz Index\"] = calinski_harabasz_score(df_scaled, gmm_labels_normal)\n",
    "results[\"GMM\"][\"normal\"][\"Davies-Bouldin Index\"] = davies_bouldin_score(df_scaled, gmm_labels_normal)\n",
    "results[\"GMM\"][\"normal\"][\"Time\"] = end - start\n",
    "\n",
    "for metric, value in results[\"KMeans\"][\"normal\"].items():\n",
    "    print(f\"{metric}: {value:.2f}\")\n",
    "    \n",
    "#fig = plt.figure(figsize=(8,8))\n",
    "#fig.set_facecolor('white')\n",
    "#plt.scatter(df_scaled[:,0], df_scaled[:,1], c=labels)\n",
    "#plt.show()"
   ]
  },
  {
   "cell_type": "markdown",
   "metadata": {},
   "source": [
    "GMM with UMAP"
   ]
  },
  {
   "cell_type": "code",
   "execution_count": 34,
   "metadata": {},
   "outputs": [
    {
     "name": "stdout",
     "output_type": "stream",
     "text": [
      "Silhouette Coefficient: 0.40\n",
      "Calinski-Harabasz Index: 7111.81\n",
      "Davies-Bouldin Index: 0.90\n",
      "Time: 0.50\n"
     ]
    }
   ],
   "source": [
    "start = time.time()\n",
    "gmm_umap = GaussianMixture(n_components=3, covariance_type='full', init_params='kmeans', random_state=42, n_init=10)\n",
    "gmm_labels_umap = gmm_umap.fit_predict(df_umap)\n",
    "end = time.time()\n",
    "\n",
    "results[\"GMM\"][\"umap\"][\"Silhouette Coefficient\"] = silhouette_score(df_umap, gmm_labels_umap)\n",
    "results[\"GMM\"][\"umap\"][\"Calinski-Harabasz Index\"] = calinski_harabasz_score(df_umap, gmm_labels_umap)\n",
    "results[\"GMM\"][\"umap\"][\"Davies-Bouldin Index\"] = davies_bouldin_score(df_umap, gmm_labels_umap)\n",
    "results[\"GMM\"][\"umap\"][\"Time\"] = end - start\n",
    "\n",
    "for metric, value in results[\"GMM\"][\"umap\"].items():\n",
    "    print(f\"{metric}: {value:.2f}\")"
   ]
  },
  {
   "cell_type": "markdown",
   "metadata": {},
   "source": [
    "GMM with PCA"
   ]
  },
  {
   "cell_type": "code",
   "execution_count": 35,
   "metadata": {},
   "outputs": [
    {
     "name": "stdout",
     "output_type": "stream",
     "text": [
      "Silhouette Coefficient: 0.34\n",
      "Calinski-Harabasz Index: 3506.88\n",
      "Davies-Bouldin Index: 1.11\n",
      "Time: 2.28\n"
     ]
    }
   ],
   "source": [
    "start = time.time()\n",
    "gmm_pca = GaussianMixture(n_components=3, covariance_type='full', init_params='kmeans', random_state=42, n_init=10)\n",
    "gmm_labels_pca = gmm_pca.fit_predict(df_pca)\n",
    "end = time.time()\n",
    "\n",
    "results[\"GMM\"][\"pca\"][\"Silhouette Coefficient\"] = silhouette_score(df_pca, gmm_labels_pca)\n",
    "results[\"GMM\"][\"pca\"][\"Calinski-Harabasz Index\"] = calinski_harabasz_score(df_pca, gmm_labels_pca)\n",
    "results[\"GMM\"][\"pca\"][\"Davies-Bouldin Index\"] = davies_bouldin_score(df_pca, gmm_labels_pca)\n",
    "results[\"GMM\"][\"pca\"][\"Time\"] = end - start\n",
    "\n",
    "for metric, value in results[\"GMM\"][\"pca\"].items():\n",
    "    print(f\"{metric}: {value:.2f}\")"
   ]
  },
  {
   "cell_type": "markdown",
   "metadata": {},
   "source": [
    "Agglomerative Hierachical Clustering with original dataset"
   ]
  },
  {
   "cell_type": "code",
   "execution_count": 36,
   "metadata": {},
   "outputs": [
    {
     "name": "stdout",
     "output_type": "stream",
     "text": [
      "Silhouette Coefficient: 0.17\n",
      "Calinski-Harabasz Index: 1270.50\n",
      "Davies-Bouldin Index: 1.80\n"
     ]
    }
   ],
   "source": [
    "start = time.time()\n",
    "agl_normal = AgglomerativeClustering(n_clusters=3)\n",
    "agl_labels_normal = agl_normal.fit_predict(df_scaled)\n",
    "end = time.time()\n",
    "\n",
    "results[\"AGL\"][\"normal\"][\"Silhouette Coefficient\"] = silhouette_score(df_scaled, agl_labels_normal)\n",
    "results[\"AGL\"][\"normal\"][\"Calinski-Harabasz Index\"] = calinski_harabasz_score(df_scaled, agl_labels_normal)\n",
    "results[\"AGL\"][\"normal\"][\"Davies-Bouldin Index\"] = davies_bouldin_score(df_scaled, agl_labels_normal)\n",
    "results[\"GMM\"][\"normal\"][\"Time\"] = end - start\n",
    "\n",
    "for metric, value in results[\"AGL\"][\"normal\"].items():\n",
    "    print(f\"{metric}: {value:.2f}\")"
   ]
  },
  {
   "cell_type": "markdown",
   "metadata": {},
   "source": [
    "Agglomerative Hierachical Clustering with UMAP"
   ]
  },
  {
   "cell_type": "code",
   "execution_count": 37,
   "metadata": {},
   "outputs": [
    {
     "name": "stdout",
     "output_type": "stream",
     "text": [
      "Silhouette Coefficient: 0.38\n",
      "Calinski-Harabasz Index: 6586.92\n",
      "Davies-Bouldin Index: 0.79\n"
     ]
    }
   ],
   "source": [
    "start = time.time()\n",
    "agl_umap = AgglomerativeClustering(n_clusters=3)\n",
    "agl_labels_umap = agl_umap.fit_predict(df_umap)\n",
    "end = time.time()\n",
    "\n",
    "results[\"AGL\"][\"umap\"][\"Silhouette Coefficient\"] = silhouette_score(df_umap, agl_labels_umap)\n",
    "results[\"AGL\"][\"umap\"][\"Calinski-Harabasz Index\"] = calinski_harabasz_score(df_umap, agl_labels_umap)\n",
    "results[\"AGL\"][\"umap\"][\"Davies-Bouldin Index\"] = davies_bouldin_score(df_umap, agl_labels_umap)\n",
    "results[\"GMM\"][\"umap\"][\"Time\"] = end - start\n",
    "\n",
    "for metric, value in results[\"AGL\"][\"umap\"].items():\n",
    "    print(f\"{metric}: {value:.2f}\")"
   ]
  },
  {
   "cell_type": "markdown",
   "metadata": {},
   "source": [
    "Agglomerative Hierachical Clustering with PCA"
   ]
  },
  {
   "cell_type": "code",
   "execution_count": 38,
   "metadata": {},
   "outputs": [
    {
     "name": "stdout",
     "output_type": "stream",
     "text": [
      "Silhouette Coefficient: 0.34\n",
      "Calinski-Harabasz Index: 3851.51\n",
      "Davies-Bouldin Index: 0.95\n"
     ]
    }
   ],
   "source": [
    "start = time.time()\n",
    "agl_pca = AgglomerativeClustering(n_clusters=3)\n",
    "agl_labels_pca = agl_pca.fit_predict(df_pca)\n",
    "end = time.time()\n",
    "\n",
    "results[\"AGL\"][\"pca\"][\"Silhouette Coefficient\"] = silhouette_score(df_pca, agl_labels_pca)\n",
    "results[\"AGL\"][\"pca\"][\"Calinski-Harabasz Index\"] = calinski_harabasz_score(df_pca, agl_labels_pca)\n",
    "results[\"AGL\"][\"pca\"][\"Davies-Bouldin Index\"] = davies_bouldin_score(df_pca, agl_labels_pca)\n",
    "results[\"GMM\"][\"pca\"][\"Time\"] = end - start\n",
    "\n",
    "for metric, value in results[\"AGL\"][\"pca\"].items():\n",
    "    print(f\"{metric}: {value:.2f}\")"
   ]
  },
  {
   "cell_type": "markdown",
   "metadata": {},
   "source": [
    "Results"
   ]
  },
  {
   "cell_type": "code",
   "execution_count": 39,
   "metadata": {},
   "outputs": [
    {
     "data": {
      "text/markdown": [
       "### CC GENERAL.csv"
      ],
      "text/plain": [
       "<IPython.core.display.Markdown object>"
      ]
     },
     "metadata": {},
     "output_type": "display_data"
    },
    {
     "data": {
      "text/markdown": [
       "### 0.7989505121522804"
      ],
      "text/plain": [
       "<IPython.core.display.Markdown object>"
      ]
     },
     "metadata": {},
     "output_type": "display_data"
    },
    {
     "data": {
      "text/markdown": [
       "### KMeans"
      ],
      "text/plain": [
       "<IPython.core.display.Markdown object>"
      ]
     },
     "metadata": {},
     "output_type": "display_data"
    },
    {
     "data": {
      "text/markdown": [
       "#### normal"
      ],
      "text/plain": [
       "<IPython.core.display.Markdown object>"
      ]
     },
     "metadata": {},
     "output_type": "display_data"
    },
    {
     "data": {
      "text/markdown": [
       "- **Silhouette Coefficient**: 0.250556"
      ],
      "text/plain": [
       "<IPython.core.display.Markdown object>"
      ]
     },
     "metadata": {},
     "output_type": "display_data"
    },
    {
     "data": {
      "text/markdown": [
       "- **Calinski-Harabasz Index**: 1604.396717"
      ],
      "text/plain": [
       "<IPython.core.display.Markdown object>"
      ]
     },
     "metadata": {},
     "output_type": "display_data"
    },
    {
     "data": {
      "text/markdown": [
       "- **Davies-Bouldin Index**: 1.597271"
      ],
      "text/plain": [
       "<IPython.core.display.Markdown object>"
      ]
     },
     "metadata": {},
     "output_type": "display_data"
    },
    {
     "data": {
      "text/markdown": [
       "- **Time**: 0.297652"
      ],
      "text/plain": [
       "<IPython.core.display.Markdown object>"
      ]
     },
     "metadata": {},
     "output_type": "display_data"
    },
    {
     "data": {
      "text/markdown": [
       "#### umap"
      ],
      "text/plain": [
       "<IPython.core.display.Markdown object>"
      ]
     },
     "metadata": {},
     "output_type": "display_data"
    },
    {
     "data": {
      "text/markdown": [
       "- **Silhouette Coefficient**: 0.404058"
      ],
      "text/plain": [
       "<IPython.core.display.Markdown object>"
      ]
     },
     "metadata": {},
     "output_type": "display_data"
    },
    {
     "data": {
      "text/markdown": [
       "- **Calinski-Harabasz Index**: 8157.890377"
      ],
      "text/plain": [
       "<IPython.core.display.Markdown object>"
      ]
     },
     "metadata": {},
     "output_type": "display_data"
    },
    {
     "data": {
      "text/markdown": [
       "- **Davies-Bouldin Index**: 0.876059"
      ],
      "text/plain": [
       "<IPython.core.display.Markdown object>"
      ]
     },
     "metadata": {},
     "output_type": "display_data"
    },
    {
     "data": {
      "text/markdown": [
       "- **Time**: 0.318717"
      ],
      "text/plain": [
       "<IPython.core.display.Markdown object>"
      ]
     },
     "metadata": {},
     "output_type": "display_data"
    },
    {
     "data": {
      "text/markdown": [
       "#### pca"
      ],
      "text/plain": [
       "<IPython.core.display.Markdown object>"
      ]
     },
     "metadata": {},
     "output_type": "display_data"
    },
    {
     "data": {
      "text/markdown": [
       "- **Silhouette Coefficient**: 0.452367"
      ],
      "text/plain": [
       "<IPython.core.display.Markdown object>"
      ]
     },
     "metadata": {},
     "output_type": "display_data"
    },
    {
     "data": {
      "text/markdown": [
       "- **Calinski-Harabasz Index**: 5337.484796"
      ],
      "text/plain": [
       "<IPython.core.display.Markdown object>"
      ]
     },
     "metadata": {},
     "output_type": "display_data"
    },
    {
     "data": {
      "text/markdown": [
       "- **Davies-Bouldin Index**: 0.811241"
      ],
      "text/plain": [
       "<IPython.core.display.Markdown object>"
      ]
     },
     "metadata": {},
     "output_type": "display_data"
    },
    {
     "data": {
      "text/markdown": [
       "- **Time**: 1.051538"
      ],
      "text/plain": [
       "<IPython.core.display.Markdown object>"
      ]
     },
     "metadata": {},
     "output_type": "display_data"
    },
    {
     "data": {
      "text/markdown": [
       "### DBSCAN"
      ],
      "text/plain": [
       "<IPython.core.display.Markdown object>"
      ]
     },
     "metadata": {},
     "output_type": "display_data"
    },
    {
     "data": {
      "text/markdown": [
       "#### normal"
      ],
      "text/plain": [
       "<IPython.core.display.Markdown object>"
      ]
     },
     "metadata": {},
     "output_type": "display_data"
    },
    {
     "data": {
      "text/markdown": [
       "- **Silhouette Coefficient**: 0.520463"
      ],
      "text/plain": [
       "<IPython.core.display.Markdown object>"
      ]
     },
     "metadata": {},
     "output_type": "display_data"
    },
    {
     "data": {
      "text/markdown": [
       "- **Calinski-Harabasz Index**: 939.758014"
      ],
      "text/plain": [
       "<IPython.core.display.Markdown object>"
      ]
     },
     "metadata": {},
     "output_type": "display_data"
    },
    {
     "data": {
      "text/markdown": [
       "- **Davies-Bouldin Index**: 1.973882"
      ],
      "text/plain": [
       "<IPython.core.display.Markdown object>"
      ]
     },
     "metadata": {},
     "output_type": "display_data"
    },
    {
     "data": {
      "text/markdown": [
       "- **Time**: 0.192844"
      ],
      "text/plain": [
       "<IPython.core.display.Markdown object>"
      ]
     },
     "metadata": {},
     "output_type": "display_data"
    },
    {
     "data": {
      "text/markdown": [
       "#### umap"
      ],
      "text/plain": [
       "<IPython.core.display.Markdown object>"
      ]
     },
     "metadata": {},
     "output_type": "display_data"
    },
    {
     "data": {
      "text/markdown": [
       "- **Silhouette Coefficient**: 0.259910"
      ],
      "text/plain": [
       "<IPython.core.display.Markdown object>"
      ]
     },
     "metadata": {},
     "output_type": "display_data"
    },
    {
     "data": {
      "text/markdown": [
       "- **Calinski-Harabasz Index**: 239.436945"
      ],
      "text/plain": [
       "<IPython.core.display.Markdown object>"
      ]
     },
     "metadata": {},
     "output_type": "display_data"
    },
    {
     "data": {
      "text/markdown": [
       "- **Davies-Bouldin Index**: 0.610066"
      ],
      "text/plain": [
       "<IPython.core.display.Markdown object>"
      ]
     },
     "metadata": {},
     "output_type": "display_data"
    },
    {
     "data": {
      "text/markdown": [
       "- **Time**: 0.166286"
      ],
      "text/plain": [
       "<IPython.core.display.Markdown object>"
      ]
     },
     "metadata": {},
     "output_type": "display_data"
    },
    {
     "data": {
      "text/markdown": [
       "#### pca"
      ],
      "text/plain": [
       "<IPython.core.display.Markdown object>"
      ]
     },
     "metadata": {},
     "output_type": "display_data"
    },
    {
     "data": {
      "text/markdown": [
       "- **Silhouette Coefficient**: 0.796025"
      ],
      "text/plain": [
       "<IPython.core.display.Markdown object>"
      ]
     },
     "metadata": {},
     "output_type": "display_data"
    },
    {
     "data": {
      "text/markdown": [
       "- **Calinski-Harabasz Index**: 1347.226109"
      ],
      "text/plain": [
       "<IPython.core.display.Markdown object>"
      ]
     },
     "metadata": {},
     "output_type": "display_data"
    },
    {
     "data": {
      "text/markdown": [
       "- **Davies-Bouldin Index**: 0.784961"
      ],
      "text/plain": [
       "<IPython.core.display.Markdown object>"
      ]
     },
     "metadata": {},
     "output_type": "display_data"
    },
    {
     "data": {
      "text/markdown": [
       "- **Time**: 0.167395"
      ],
      "text/plain": [
       "<IPython.core.display.Markdown object>"
      ]
     },
     "metadata": {},
     "output_type": "display_data"
    },
    {
     "data": {
      "text/markdown": [
       "### OPTICS"
      ],
      "text/plain": [
       "<IPython.core.display.Markdown object>"
      ]
     },
     "metadata": {},
     "output_type": "display_data"
    },
    {
     "data": {
      "text/markdown": [
       "#### normal"
      ],
      "text/plain": [
       "<IPython.core.display.Markdown object>"
      ]
     },
     "metadata": {},
     "output_type": "display_data"
    },
    {
     "data": {
      "text/markdown": [
       "#### umap"
      ],
      "text/plain": [
       "<IPython.core.display.Markdown object>"
      ]
     },
     "metadata": {},
     "output_type": "display_data"
    },
    {
     "data": {
      "text/markdown": [
       "#### pca"
      ],
      "text/plain": [
       "<IPython.core.display.Markdown object>"
      ]
     },
     "metadata": {},
     "output_type": "display_data"
    },
    {
     "data": {
      "text/markdown": [
       "### GMM"
      ],
      "text/plain": [
       "<IPython.core.display.Markdown object>"
      ]
     },
     "metadata": {},
     "output_type": "display_data"
    },
    {
     "data": {
      "text/markdown": [
       "#### normal"
      ],
      "text/plain": [
       "<IPython.core.display.Markdown object>"
      ]
     },
     "metadata": {},
     "output_type": "display_data"
    },
    {
     "data": {
      "text/markdown": [
       "- **Silhouette Coefficient**: 0.113716"
      ],
      "text/plain": [
       "<IPython.core.display.Markdown object>"
      ]
     },
     "metadata": {},
     "output_type": "display_data"
    },
    {
     "data": {
      "text/markdown": [
       "- **Calinski-Harabasz Index**: 920.088826"
      ],
      "text/plain": [
       "<IPython.core.display.Markdown object>"
      ]
     },
     "metadata": {},
     "output_type": "display_data"
    },
    {
     "data": {
      "text/markdown": [
       "- **Davies-Bouldin Index**: 2.608650"
      ],
      "text/plain": [
       "<IPython.core.display.Markdown object>"
      ]
     },
     "metadata": {},
     "output_type": "display_data"
    },
    {
     "data": {
      "text/markdown": [
       "- **Time**: 1.337385"
      ],
      "text/plain": [
       "<IPython.core.display.Markdown object>"
      ]
     },
     "metadata": {},
     "output_type": "display_data"
    },
    {
     "data": {
      "text/markdown": [
       "#### umap"
      ],
      "text/plain": [
       "<IPython.core.display.Markdown object>"
      ]
     },
     "metadata": {},
     "output_type": "display_data"
    },
    {
     "data": {
      "text/markdown": [
       "- **Silhouette Coefficient**: 0.404760"
      ],
      "text/plain": [
       "<IPython.core.display.Markdown object>"
      ]
     },
     "metadata": {},
     "output_type": "display_data"
    },
    {
     "data": {
      "text/markdown": [
       "- **Calinski-Harabasz Index**: 7111.813213"
      ],
      "text/plain": [
       "<IPython.core.display.Markdown object>"
      ]
     },
     "metadata": {},
     "output_type": "display_data"
    },
    {
     "data": {
      "text/markdown": [
       "- **Davies-Bouldin Index**: 0.898005"
      ],
      "text/plain": [
       "<IPython.core.display.Markdown object>"
      ]
     },
     "metadata": {},
     "output_type": "display_data"
    },
    {
     "data": {
      "text/markdown": [
       "- **Time**: 0.923726"
      ],
      "text/plain": [
       "<IPython.core.display.Markdown object>"
      ]
     },
     "metadata": {},
     "output_type": "display_data"
    },
    {
     "data": {
      "text/markdown": [
       "#### pca"
      ],
      "text/plain": [
       "<IPython.core.display.Markdown object>"
      ]
     },
     "metadata": {},
     "output_type": "display_data"
    },
    {
     "data": {
      "text/markdown": [
       "- **Silhouette Coefficient**: 0.336897"
      ],
      "text/plain": [
       "<IPython.core.display.Markdown object>"
      ]
     },
     "metadata": {},
     "output_type": "display_data"
    },
    {
     "data": {
      "text/markdown": [
       "- **Calinski-Harabasz Index**: 3506.879980"
      ],
      "text/plain": [
       "<IPython.core.display.Markdown object>"
      ]
     },
     "metadata": {},
     "output_type": "display_data"
    },
    {
     "data": {
      "text/markdown": [
       "- **Davies-Bouldin Index**: 1.113599"
      ],
      "text/plain": [
       "<IPython.core.display.Markdown object>"
      ]
     },
     "metadata": {},
     "output_type": "display_data"
    },
    {
     "data": {
      "text/markdown": [
       "- **Time**: 0.927119"
      ],
      "text/plain": [
       "<IPython.core.display.Markdown object>"
      ]
     },
     "metadata": {},
     "output_type": "display_data"
    },
    {
     "data": {
      "text/markdown": [
       "### AGL"
      ],
      "text/plain": [
       "<IPython.core.display.Markdown object>"
      ]
     },
     "metadata": {},
     "output_type": "display_data"
    },
    {
     "data": {
      "text/markdown": [
       "#### normal"
      ],
      "text/plain": [
       "<IPython.core.display.Markdown object>"
      ]
     },
     "metadata": {},
     "output_type": "display_data"
    },
    {
     "data": {
      "text/markdown": [
       "- **Silhouette Coefficient**: 0.173110"
      ],
      "text/plain": [
       "<IPython.core.display.Markdown object>"
      ]
     },
     "metadata": {},
     "output_type": "display_data"
    },
    {
     "data": {
      "text/markdown": [
       "- **Calinski-Harabasz Index**: 1270.503917"
      ],
      "text/plain": [
       "<IPython.core.display.Markdown object>"
      ]
     },
     "metadata": {},
     "output_type": "display_data"
    },
    {
     "data": {
      "text/markdown": [
       "- **Davies-Bouldin Index**: 1.797923"
      ],
      "text/plain": [
       "<IPython.core.display.Markdown object>"
      ]
     },
     "metadata": {},
     "output_type": "display_data"
    },
    {
     "data": {
      "text/markdown": [
       "#### umap"
      ],
      "text/plain": [
       "<IPython.core.display.Markdown object>"
      ]
     },
     "metadata": {},
     "output_type": "display_data"
    },
    {
     "data": {
      "text/markdown": [
       "- **Silhouette Coefficient**: 0.384029"
      ],
      "text/plain": [
       "<IPython.core.display.Markdown object>"
      ]
     },
     "metadata": {},
     "output_type": "display_data"
    },
    {
     "data": {
      "text/markdown": [
       "- **Calinski-Harabasz Index**: 6586.922990"
      ],
      "text/plain": [
       "<IPython.core.display.Markdown object>"
      ]
     },
     "metadata": {},
     "output_type": "display_data"
    },
    {
     "data": {
      "text/markdown": [
       "- **Davies-Bouldin Index**: 0.789550"
      ],
      "text/plain": [
       "<IPython.core.display.Markdown object>"
      ]
     },
     "metadata": {},
     "output_type": "display_data"
    },
    {
     "data": {
      "text/markdown": [
       "#### pca"
      ],
      "text/plain": [
       "<IPython.core.display.Markdown object>"
      ]
     },
     "metadata": {},
     "output_type": "display_data"
    },
    {
     "data": {
      "text/markdown": [
       "- **Silhouette Coefficient**: 0.338239"
      ],
      "text/plain": [
       "<IPython.core.display.Markdown object>"
      ]
     },
     "metadata": {},
     "output_type": "display_data"
    },
    {
     "data": {
      "text/markdown": [
       "- **Calinski-Harabasz Index**: 3851.510982"
      ],
      "text/plain": [
       "<IPython.core.display.Markdown object>"
      ]
     },
     "metadata": {},
     "output_type": "display_data"
    },
    {
     "data": {
      "text/markdown": [
       "- **Davies-Bouldin Index**: 0.951048"
      ],
      "text/plain": [
       "<IPython.core.display.Markdown object>"
      ]
     },
     "metadata": {},
     "output_type": "display_data"
    }
   ],
   "source": [
    "from IPython.display import display, Markdown\n",
    "\n",
    "def display_results(results):\n",
    "    display(Markdown(f\"### {url}\"))\n",
    "    display(Markdown(f\"### {hopkins_score}\"))\n",
    "    for method, data in results.items():\n",
    "        display(Markdown(f\"### {method}\"))\n",
    "        for dataset, metrics in data.items():\n",
    "            display(Markdown(f\"#### {dataset}\"))\n",
    "            for metric, value in metrics.items():\n",
    "                display(Markdown(f\"- **{metric}**: {value:.6f}\"))\n",
    "                \n",
    "display_results(results)\n"
   ]
  }
 ],
 "metadata": {
  "kaggle": {
   "accelerator": "none",
   "dataSources": [
    {
     "datasetId": 14701,
     "sourceId": 19663,
     "sourceType": "datasetVersion"
    }
   ],
   "dockerImageVersionId": 30558,
   "isGpuEnabled": false,
   "isInternetEnabled": true,
   "language": "python",
   "sourceType": "notebook"
  },
  "kernelspec": {
   "display_name": "Python 3 (ipykernel)",
   "language": "python",
   "name": "python3"
  },
  "language_info": {
   "codemirror_mode": {
    "name": "ipython",
    "version": 3
   },
   "file_extension": ".py",
   "mimetype": "text/x-python",
   "name": "python",
   "nbconvert_exporter": "python",
   "pygments_lexer": "ipython3",
   "version": "3.10.12"
  }
 },
 "nbformat": 4,
 "nbformat_minor": 4
}
